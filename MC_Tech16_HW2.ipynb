{
  "nbformat": 4,
  "nbformat_minor": 0,
  "metadata": {
    "colab": {
      "provenance": [],
      "authorship_tag": "ABX9TyPN6RcCDeDyRQ0actXjJl6w",
      "include_colab_link": true
    },
    "kernelspec": {
      "name": "python3",
      "display_name": "Python 3"
    },
    "language_info": {
      "name": "python"
    }
  },
  "cells": [
    {
      "cell_type": "markdown",
      "metadata": {
        "id": "view-in-github",
        "colab_type": "text"
      },
      "source": [
        "<a href=\"https://colab.research.google.com/github/mcadete/LLM_4_Biz_16/blob/main/MC_Tech16_HW2.ipynb\" target=\"_parent\"><img src=\"https://colab.research.google.com/assets/colab-badge.svg\" alt=\"Open In Colab\"/></a>"
      ]
    },
    {
      "cell_type": "code",
      "execution_count": null,
      "metadata": {
        "colab": {
          "base_uri": "https://localhost:8080/"
        },
        "id": "gptVWSaJsbD7",
        "outputId": "43491e28-0689-414c-b881-ca24f33a686e"
      },
      "outputs": [
        {
          "output_type": "stream",
          "name": "stdout",
          "text": [
            "Requirement already satisfied: openai in /usr/local/lib/python3.11/dist-packages (1.61.1)\n",
            "Requirement already satisfied: anyio<5,>=3.5.0 in /usr/local/lib/python3.11/dist-packages (from openai) (3.7.1)\n",
            "Requirement already satisfied: distro<2,>=1.7.0 in /usr/local/lib/python3.11/dist-packages (from openai) (1.9.0)\n",
            "Requirement already satisfied: httpx<1,>=0.23.0 in /usr/local/lib/python3.11/dist-packages (from openai) (0.28.1)\n",
            "Requirement already satisfied: jiter<1,>=0.4.0 in /usr/local/lib/python3.11/dist-packages (from openai) (0.8.2)\n",
            "Requirement already satisfied: pydantic<3,>=1.9.0 in /usr/local/lib/python3.11/dist-packages (from openai) (2.10.6)\n",
            "Requirement already satisfied: sniffio in /usr/local/lib/python3.11/dist-packages (from openai) (1.3.1)\n",
            "Requirement already satisfied: tqdm>4 in /usr/local/lib/python3.11/dist-packages (from openai) (4.67.1)\n",
            "Requirement already satisfied: typing-extensions<5,>=4.11 in /usr/local/lib/python3.11/dist-packages (from openai) (4.12.2)\n",
            "Requirement already satisfied: idna>=2.8 in /usr/local/lib/python3.11/dist-packages (from anyio<5,>=3.5.0->openai) (3.10)\n",
            "Requirement already satisfied: certifi in /usr/local/lib/python3.11/dist-packages (from httpx<1,>=0.23.0->openai) (2025.1.31)\n",
            "Requirement already satisfied: httpcore==1.* in /usr/local/lib/python3.11/dist-packages (from httpx<1,>=0.23.0->openai) (1.0.7)\n",
            "Requirement already satisfied: h11<0.15,>=0.13 in /usr/local/lib/python3.11/dist-packages (from httpcore==1.*->httpx<1,>=0.23.0->openai) (0.14.0)\n",
            "Requirement already satisfied: annotated-types>=0.6.0 in /usr/local/lib/python3.11/dist-packages (from pydantic<3,>=1.9.0->openai) (0.7.0)\n",
            "Requirement already satisfied: pydantic-core==2.27.2 in /usr/local/lib/python3.11/dist-packages (from pydantic<3,>=1.9.0->openai) (2.27.2)\n"
          ]
        }
      ],
      "source": [
        "!pip install openai"
      ]
    },
    {
      "cell_type": "code",
      "source": [
        "from openai import OpenAI\n",
        "from google.colab import userdata\n",
        "\n",
        "open_ai_key = userdata.get('open_ai_key')\n",
        "client = OpenAI(api_key=open_ai_key)"
      ],
      "metadata": {
        "id": "gRpcBBEfssBv"
      },
      "execution_count": null,
      "outputs": []
    },
    {
      "cell_type": "code",
      "source": [
        "# Get a PDF on tax loss harvesting\n",
        "!wget https://corporate.vanguard.com/content/dam/corp/research/pdf/tax_loss_harvesting_why_a_personalized_approach_is_important.pdf -O hw2.pdf"
      ],
      "metadata": {
        "colab": {
          "base_uri": "https://localhost:8080/"
        },
        "collapsed": true,
        "id": "m4dDt54Bs0wR",
        "outputId": "2185a8db-751b-47e1-e1d9-ec15deb4c47e"
      },
      "execution_count": null,
      "outputs": [
        {
          "output_type": "stream",
          "name": "stdout",
          "text": [
            "--2025-02-12 05:55:48--  https://corporate.vanguard.com/content/dam/corp/research/pdf/tax_loss_harvesting_why_a_personalized_approach_is_important.pdf\n",
            "Resolving corporate.vanguard.com (corporate.vanguard.com)... 23.60.96.50, 23.60.96.47\n",
            "Connecting to corporate.vanguard.com (corporate.vanguard.com)|23.60.96.50|:443... connected.\n",
            "HTTP request sent, awaiting response... 200 OK\n",
            "Length: 461908 (451K) [application/pdf]\n",
            "Saving to: ‘hw2.pdf’\n",
            "\n",
            "hw2.pdf             100%[===================>] 451.08K   824KB/s    in 0.5s    \n",
            "\n",
            "2025-02-12 05:55:49 (824 KB/s) - ‘hw2.pdf’ saved [461908/461908]\n",
            "\n"
          ]
        }
      ]
    },
    {
      "cell_type": "code",
      "source": [
        "!ls"
      ],
      "metadata": {
        "colab": {
          "base_uri": "https://localhost:8080/"
        },
        "id": "nyClujDItL4B",
        "outputId": "a4b37194-e660-4ee9-c119-3fbcfd76f8d4"
      },
      "execution_count": null,
      "outputs": [
        {
          "output_type": "stream",
          "name": "stdout",
          "text": [
            "hw2.pdf  sample_data\n"
          ]
        }
      ]
    },
    {
      "cell_type": "code",
      "source": [
        "!pip install -U langchain-community pypdf langchain-openai"
      ],
      "metadata": {
        "colab": {
          "base_uri": "https://localhost:8080/"
        },
        "collapsed": true,
        "id": "BJ0FIVE5tPtA",
        "outputId": "70b9d013-b722-496d-8c0a-1ef8f160e206"
      },
      "execution_count": null,
      "outputs": [
        {
          "output_type": "stream",
          "name": "stdout",
          "text": [
            "Requirement already satisfied: langchain-community in /usr/local/lib/python3.11/dist-packages (0.3.17)\n",
            "Requirement already satisfied: pypdf in /usr/local/lib/python3.11/dist-packages (5.3.0)\n",
            "Requirement already satisfied: langchain-openai in /usr/local/lib/python3.11/dist-packages (0.3.5)\n",
            "Requirement already satisfied: langchain-core<1.0.0,>=0.3.34 in /usr/local/lib/python3.11/dist-packages (from langchain-community) (0.3.34)\n",
            "Requirement already satisfied: langchain<1.0.0,>=0.3.18 in /usr/local/lib/python3.11/dist-packages (from langchain-community) (0.3.18)\n",
            "Requirement already satisfied: SQLAlchemy<3,>=1.4 in /usr/local/lib/python3.11/dist-packages (from langchain-community) (2.0.37)\n",
            "Requirement already satisfied: requests<3,>=2 in /usr/local/lib/python3.11/dist-packages (from langchain-community) (2.32.3)\n",
            "Requirement already satisfied: PyYAML>=5.3 in /usr/local/lib/python3.11/dist-packages (from langchain-community) (6.0.2)\n",
            "Requirement already satisfied: aiohttp<4.0.0,>=3.8.3 in /usr/local/lib/python3.11/dist-packages (from langchain-community) (3.11.12)\n",
            "Requirement already satisfied: tenacity!=8.4.0,<10,>=8.1.0 in /usr/local/lib/python3.11/dist-packages (from langchain-community) (9.0.0)\n",
            "Requirement already satisfied: dataclasses-json<0.7,>=0.5.7 in /usr/local/lib/python3.11/dist-packages (from langchain-community) (0.6.7)\n",
            "Requirement already satisfied: pydantic-settings<3.0.0,>=2.4.0 in /usr/local/lib/python3.11/dist-packages (from langchain-community) (2.7.1)\n",
            "Requirement already satisfied: langsmith<0.4,>=0.1.125 in /usr/local/lib/python3.11/dist-packages (from langchain-community) (0.3.6)\n",
            "Requirement already satisfied: httpx-sse<1.0.0,>=0.4.0 in /usr/local/lib/python3.11/dist-packages (from langchain-community) (0.4.0)\n",
            "Requirement already satisfied: numpy<2,>=1.26.4 in /usr/local/lib/python3.11/dist-packages (from langchain-community) (1.26.4)\n",
            "Requirement already satisfied: openai<2.0.0,>=1.58.1 in /usr/local/lib/python3.11/dist-packages (from langchain-openai) (1.61.1)\n",
            "Requirement already satisfied: tiktoken<1,>=0.7 in /usr/local/lib/python3.11/dist-packages (from langchain-openai) (0.8.0)\n",
            "Requirement already satisfied: aiohappyeyeballs>=2.3.0 in /usr/local/lib/python3.11/dist-packages (from aiohttp<4.0.0,>=3.8.3->langchain-community) (2.4.4)\n",
            "Requirement already satisfied: aiosignal>=1.1.2 in /usr/local/lib/python3.11/dist-packages (from aiohttp<4.0.0,>=3.8.3->langchain-community) (1.3.2)\n",
            "Requirement already satisfied: attrs>=17.3.0 in /usr/local/lib/python3.11/dist-packages (from aiohttp<4.0.0,>=3.8.3->langchain-community) (25.1.0)\n",
            "Requirement already satisfied: frozenlist>=1.1.1 in /usr/local/lib/python3.11/dist-packages (from aiohttp<4.0.0,>=3.8.3->langchain-community) (1.5.0)\n",
            "Requirement already satisfied: multidict<7.0,>=4.5 in /usr/local/lib/python3.11/dist-packages (from aiohttp<4.0.0,>=3.8.3->langchain-community) (6.1.0)\n",
            "Requirement already satisfied: propcache>=0.2.0 in /usr/local/lib/python3.11/dist-packages (from aiohttp<4.0.0,>=3.8.3->langchain-community) (0.2.1)\n",
            "Requirement already satisfied: yarl<2.0,>=1.17.0 in /usr/local/lib/python3.11/dist-packages (from aiohttp<4.0.0,>=3.8.3->langchain-community) (1.18.3)\n",
            "Requirement already satisfied: marshmallow<4.0.0,>=3.18.0 in /usr/local/lib/python3.11/dist-packages (from dataclasses-json<0.7,>=0.5.7->langchain-community) (3.26.1)\n",
            "Requirement already satisfied: typing-inspect<1,>=0.4.0 in /usr/local/lib/python3.11/dist-packages (from dataclasses-json<0.7,>=0.5.7->langchain-community) (0.9.0)\n",
            "Requirement already satisfied: langchain-text-splitters<1.0.0,>=0.3.6 in /usr/local/lib/python3.11/dist-packages (from langchain<1.0.0,>=0.3.18->langchain-community) (0.3.6)\n",
            "Requirement already satisfied: pydantic<3.0.0,>=2.7.4 in /usr/local/lib/python3.11/dist-packages (from langchain<1.0.0,>=0.3.18->langchain-community) (2.10.6)\n",
            "Requirement already satisfied: jsonpatch<2.0,>=1.33 in /usr/local/lib/python3.11/dist-packages (from langchain-core<1.0.0,>=0.3.34->langchain-community) (1.33)\n",
            "Requirement already satisfied: packaging<25,>=23.2 in /usr/local/lib/python3.11/dist-packages (from langchain-core<1.0.0,>=0.3.34->langchain-community) (24.2)\n",
            "Requirement already satisfied: typing-extensions>=4.7 in /usr/local/lib/python3.11/dist-packages (from langchain-core<1.0.0,>=0.3.34->langchain-community) (4.12.2)\n",
            "Requirement already satisfied: httpx<1,>=0.23.0 in /usr/local/lib/python3.11/dist-packages (from langsmith<0.4,>=0.1.125->langchain-community) (0.28.1)\n",
            "Requirement already satisfied: orjson<4.0.0,>=3.9.14 in /usr/local/lib/python3.11/dist-packages (from langsmith<0.4,>=0.1.125->langchain-community) (3.10.15)\n",
            "Requirement already satisfied: requests-toolbelt<2.0.0,>=1.0.0 in /usr/local/lib/python3.11/dist-packages (from langsmith<0.4,>=0.1.125->langchain-community) (1.0.0)\n",
            "Requirement already satisfied: zstandard<0.24.0,>=0.23.0 in /usr/local/lib/python3.11/dist-packages (from langsmith<0.4,>=0.1.125->langchain-community) (0.23.0)\n",
            "Requirement already satisfied: anyio<5,>=3.5.0 in /usr/local/lib/python3.11/dist-packages (from openai<2.0.0,>=1.58.1->langchain-openai) (3.7.1)\n",
            "Requirement already satisfied: distro<2,>=1.7.0 in /usr/local/lib/python3.11/dist-packages (from openai<2.0.0,>=1.58.1->langchain-openai) (1.9.0)\n",
            "Requirement already satisfied: jiter<1,>=0.4.0 in /usr/local/lib/python3.11/dist-packages (from openai<2.0.0,>=1.58.1->langchain-openai) (0.8.2)\n",
            "Requirement already satisfied: sniffio in /usr/local/lib/python3.11/dist-packages (from openai<2.0.0,>=1.58.1->langchain-openai) (1.3.1)\n",
            "Requirement already satisfied: tqdm>4 in /usr/local/lib/python3.11/dist-packages (from openai<2.0.0,>=1.58.1->langchain-openai) (4.67.1)\n",
            "Requirement already satisfied: python-dotenv>=0.21.0 in /usr/local/lib/python3.11/dist-packages (from pydantic-settings<3.0.0,>=2.4.0->langchain-community) (1.0.1)\n",
            "Requirement already satisfied: charset-normalizer<4,>=2 in /usr/local/lib/python3.11/dist-packages (from requests<3,>=2->langchain-community) (3.4.1)\n",
            "Requirement already satisfied: idna<4,>=2.5 in /usr/local/lib/python3.11/dist-packages (from requests<3,>=2->langchain-community) (3.10)\n",
            "Requirement already satisfied: urllib3<3,>=1.21.1 in /usr/local/lib/python3.11/dist-packages (from requests<3,>=2->langchain-community) (2.3.0)\n",
            "Requirement already satisfied: certifi>=2017.4.17 in /usr/local/lib/python3.11/dist-packages (from requests<3,>=2->langchain-community) (2025.1.31)\n",
            "Requirement already satisfied: greenlet!=0.4.17 in /usr/local/lib/python3.11/dist-packages (from SQLAlchemy<3,>=1.4->langchain-community) (3.1.1)\n",
            "Requirement already satisfied: regex>=2022.1.18 in /usr/local/lib/python3.11/dist-packages (from tiktoken<1,>=0.7->langchain-openai) (2024.11.6)\n",
            "Requirement already satisfied: httpcore==1.* in /usr/local/lib/python3.11/dist-packages (from httpx<1,>=0.23.0->langsmith<0.4,>=0.1.125->langchain-community) (1.0.7)\n",
            "Requirement already satisfied: h11<0.15,>=0.13 in /usr/local/lib/python3.11/dist-packages (from httpcore==1.*->httpx<1,>=0.23.0->langsmith<0.4,>=0.1.125->langchain-community) (0.14.0)\n",
            "Requirement already satisfied: jsonpointer>=1.9 in /usr/local/lib/python3.11/dist-packages (from jsonpatch<2.0,>=1.33->langchain-core<1.0.0,>=0.3.34->langchain-community) (3.0.0)\n",
            "Requirement already satisfied: annotated-types>=0.6.0 in /usr/local/lib/python3.11/dist-packages (from pydantic<3.0.0,>=2.7.4->langchain<1.0.0,>=0.3.18->langchain-community) (0.7.0)\n",
            "Requirement already satisfied: pydantic-core==2.27.2 in /usr/local/lib/python3.11/dist-packages (from pydantic<3.0.0,>=2.7.4->langchain<1.0.0,>=0.3.18->langchain-community) (2.27.2)\n",
            "Requirement already satisfied: mypy-extensions>=0.3.0 in /usr/local/lib/python3.11/dist-packages (from typing-inspect<1,>=0.4.0->dataclasses-json<0.7,>=0.5.7->langchain-community) (1.0.0)\n"
          ]
        }
      ]
    },
    {
      "cell_type": "code",
      "source": [
        "from langchain.document_loaders import PyPDFLoader\n",
        "\n",
        "loader = PyPDFLoader(\"hw2.pdf\")\n",
        "pages = loader.load_and_split()"
      ],
      "metadata": {
        "id": "QvRtijzGtYaY"
      },
      "execution_count": null,
      "outputs": []
    },
    {
      "cell_type": "code",
      "source": [
        "len(pages)"
      ],
      "metadata": {
        "colab": {
          "base_uri": "https://localhost:8080/"
        },
        "id": "9kdAhdBCtqDH",
        "outputId": "6d8a1f38-f04e-402b-8859-e53cd077058f"
      },
      "execution_count": null,
      "outputs": [
        {
          "output_type": "execute_result",
          "data": {
            "text/plain": [
              "16"
            ]
          },
          "metadata": {},
          "execution_count": 43
        }
      ]
    },
    {
      "cell_type": "code",
      "source": [
        "pages[0:16]"
      ],
      "metadata": {
        "colab": {
          "base_uri": "https://localhost:8080/"
        },
        "collapsed": true,
        "id": "yrx--nWltuAs",
        "outputId": "a53096f5-ccc9-402c-cb26-23abd679a1f0"
      },
      "execution_count": null,
      "outputs": [
        {
          "output_type": "execute_result",
          "data": {
            "text/plain": [
              "[Document(metadata={'producer': 'Adobe PDF Library 17.0', 'creator': 'Adobe InDesign 19.3 (Macintosh)', 'creationdate': '2024-08-28T05:51:08-04:00', 'author': 'Vanguard', 'moddate': '2024-08-28T07:10:40-04:00', 'subject': 'Vanguard research on setting expectations and maximizing the probability of success when using a tax-loss-harvesting strategy', 'title': 'Tax-loss harvesting: Why a personalized approach is important', 'trapped': '/False', 'source': 'hw2.pdf', 'total_pages': 16, 'page': 0, 'page_label': '1'}, page_content='Vanguard research July 2024\\nTax-loss harvesting: Why a \\npersonalized approach is important\\n ● The value of tax-loss harvesting (TLH) varies significantly across investor \\ncharacteristics, investor behavior, and market environment. Each of these  \\nthree categories drives roughly one-third of the variation in value. \\n ● We consider several net-worth-based profiles informed by the Survey of \\nConsumer Finances. Every profile analyzed showed improvement in TLH \\noutcomes when simulating an optimal TLH program, relative to suboptimal \\nbehavior. The single most important behavior driving the value of tax-loss \\nharvesting is the reinvestment of tax savings in the portfolio.\\n ● We find TLH alpha—the potential additional annual after-tax return achieved  \\nby conducting TLH—to range between 0.47% and 1.27%.1 \\n1 These numbers reflect a 15-year projected excess return from TLH as measured by the increase in internal rate of return. To understand the \\npotential impact of TLH for an investor, the value reported must be scaled by the size of taxable equity assets relative to the size of the entire \\nportfolio. That is, if an investor’s TLH alpha is 1%, but the applicable assets (taxable equity) reflect only 25% of the portfolio, the expected impact \\nto the portfolio would be only 0.25%.\\nAuthors\\nThomas Paradise, \\nCFA\\nKevin Khang,  \\nPh.D.\\nJoel M. Dickson,  \\nPh.D.'),\n",
              " Document(metadata={'producer': 'Adobe PDF Library 17.0', 'creator': 'Adobe InDesign 19.3 (Macintosh)', 'creationdate': '2024-08-28T05:51:08-04:00', 'author': 'Vanguard', 'moddate': '2024-08-28T07:10:40-04:00', 'subject': 'Vanguard research on setting expectations and maximizing the probability of success when using a tax-loss-harvesting strategy', 'title': 'Tax-loss harvesting: Why a personalized approach is important', 'trapped': '/False', 'source': 'hw2.pdf', 'total_pages': 16, 'page': 1, 'page_label': '2'}, page_content='2\\nIntroduction\\nTax-loss harvesting is a widely used strategy in \\nthe field of personal wealth management, often \\nlauded for its potential to improve an investor’s \\nafter-tax return. When executed within a well-\\ndesigned investment plan, TLH can improve the \\nefficiency of a portfolio by deferring, and in some \\ncases eliminating, tax payments, which keeps \\nmore capital invested and compounding. For  \\nthis reason, TLH is a strategy that closely aligns \\nwith the Vanguard principle of minimizing cost \\n(Vanguard, 2023), which is central to enhancing \\ninvestor returns. \\nThe value provided to investors, however, can  \\nvary significantly. It is driven by a multitude  \\nof factors that can be grouped into three \\ncategories: characteristics specific to the \\ninvestor, things that the investor can control  \\nor influence, and market behavior outside the \\ninvestor’s control. This analysis aims to attribute \\nthe relative importance of factors on TLH \\noutcomes and discuss their importance through \\nboth qualitative and quantitative lenses. We use \\nthis understanding of how TLH value varies and  \\nan analysis of investor profiles to answer two \\nquestions: What is a reasonable expectation of \\nvalue from TLH personalized to the individual? \\nAnd what can investors do to maximize their \\npotential benefit?\\nBuilding on previous research (Khang, Paradise, \\nand Dickson, 2021), we use historical simulation \\ncombined with machine-learning techniques to \\nattribute TLH value to core drivers. To account  \\nfor the inherent uncertainty and variability in \\nmarket influences, we consider a probabilistic \\napproach when evaluating the outcomes of TLH, \\npresenting results as a distribution of outcomes. \\nThis approach diverges from the traditional \\nmethod of presenting a single-point estimate  \\nof performance (for example, see Berkin and Ye, \\n2003, and Chaudhuri, Burnham, and Lo, 2020). \\nWe further extend our previous work by examining \\nhow the investment horizon influences the \\nexpected value derived from TLH, providing \\ninsights into the temporal aspect of the strategy’s \\nefficacy. This temporal aspect is particularly \\nrelevant for tailoring advice to investors with \\nvarying time horizons and cash-flow constraints.'),\n",
              " Document(metadata={'producer': 'Adobe PDF Library 17.0', 'creator': 'Adobe InDesign 19.3 (Macintosh)', 'creationdate': '2024-08-28T05:51:08-04:00', 'author': 'Vanguard', 'moddate': '2024-08-28T07:10:40-04:00', 'subject': 'Vanguard research on setting expectations and maximizing the probability of success when using a tax-loss-harvesting strategy', 'title': 'Tax-loss harvesting: Why a personalized approach is important', 'trapped': '/False', 'source': 'hw2.pdf', 'total_pages': 16, 'page': 2, 'page_label': '3'}, page_content='3\\nHow TLH works\\nTax-loss harvesting operates on the principle of \\nconverting investment losses into tax savings. \\nSecurities held in a taxable account can be sold—\\nor “harvested”—when their value falls below cost \\nbasis (the value when they were purchased); the \\ninvestor thus realizes a capital loss. These capital \\nlosses are used to offset an equal amount of \\ncapital gains in other parts of an investor’s \\nportfolio and/or up to $3,000 of ordinary income. \\nIf the losses realized exceed the gains realized \\nand $3,000 of ordinary income in a given calendar \\nyear, the extra losses are carried forward and are \\navailable to offset capital gains and income in \\nfuture years.\\nThe following example (Figure 1) illustrates how \\nTLH can add value. When the portfolio experiences  \\na loss, the position can be sold, and the captured \\nloss ($3,000) can be used to offset income, \\ncreating a tax savings of $900. When this $900  \\nis reinvested in the portfolio, the portfolio grows \\nmore than it would have without the reinvestment \\nof tax savings. Ultimately, the TLH portfolio can \\nalso generate a larger tax bill because of its lower \\ncost basis; however, this will represent a net \\nbenefit if the market appreciates after the \\nreinvestment of tax savings and/or the tax rate \\npaid by the investor is lower at liquidation than  \\nat the time of harvest.\\nFIGURE 1\\nTLH adds value through tax-rate substitution and increased market exposure\\nPortfolio\\nwithout\\nTLH\\nInitial balance Capital loss: 10% Marginal gain: 100% A /f_ter-tax balance\\n$27,000 $54,000 $49,200\\n($24,000 capital gain)\\n($27,900 capital gain)\\n$30,000\\nCurrent year End of ﬁrst year Liquidation of position\\n$27,000 $55,800\\n$900\\nTax-loss harvesting\\nHarvest $3,000 by selling the original \\ninvestment and purchasing a non-\\nsubstantially identical replacement \\nsecurity.\\nO/uniFB00set $3,000 of ordinary income, \\nresulting in a $900 tax savings that \\nis reinvested .\\nThis process pushes down cost basis, \\nembedding a future tax liability in \\nthe portfolio.\\n$50,220$30,000\\nPortfolio\\nwith\\nTLH\\n$1,020  \\nbeneﬁt from TLH\\nNotes: This hypothetical illustration does not represent the return on any particular investment and the rate is not guaranteed. This figure assumes a 30% tax  \\nrate when losses are harvested and a 20% tax rate when the position is liquidated.\\nSource: Vanguard.'),\n",
              " Document(metadata={'producer': 'Adobe PDF Library 17.0', 'creator': 'Adobe InDesign 19.3 (Macintosh)', 'creationdate': '2024-08-28T05:51:08-04:00', 'author': 'Vanguard', 'moddate': '2024-08-28T07:10:40-04:00', 'subject': 'Vanguard research on setting expectations and maximizing the probability of success when using a tax-loss-harvesting strategy', 'title': 'Tax-loss harvesting: Why a personalized approach is important', 'trapped': '/False', 'source': 'hw2.pdf', 'total_pages': 16, 'page': 3, 'page_label': '4'}, page_content='4\\nWhat factors drive TLH value?\\nThe value of TLH hinges on three foundational \\ncomponents: the ability to generate losses, the \\nability to convert those losses into tax savings \\nefficiently, and the ability to reinvest tax savings \\nin the stock market—which historically has \\nappreciated over the long run. This framing is \\nimportant because an investor needs to achieve \\nall three components to take full advantage of \\ntax-loss harvesting. It is primarily for this reason \\nthat the benefits of TLH are not equal for all \\ninvestors. \\nFor instance, if an investor’s portfolio is not \\nexposed to volatility, the investor cannot harvest \\nlosses to offset taxes. If an investor can generate \\nlosses, but does not have sufficient capital gains \\nand income to offset, or does not have a high-\\nenough tax rate, the investor cannot convert \\nthose losses to tax savings in the current tax  \\nyear, which may reduce the effectiveness of TLH.\\nFinally, even if an investor can harvest losses and \\nconvert them efficiently into tax savings, that \\ninvestor needs to have the discipline to invest \\nthose tax savings in the market to fully reap  \\nthe rewards of TLH.\\nIn Figure 2, we break down the three foundational \\ncomponents into factors and explain how each \\ninfluences the value of TLH. To derive the relative \\nimportance of each of the factors, we used a \\nhistorical TLH simulation model paired with \\nmachine-learning techniques to quantify how \\neach factor contributed to the variance of TLH \\nvalue for periods going back to 1982. More details \\non the simulation and attribution techniques can \\nbe found in the Appendix.'),\n",
              " Document(metadata={'producer': 'Adobe PDF Library 17.0', 'creator': 'Adobe InDesign 19.3 (Macintosh)', 'creationdate': '2024-08-28T05:51:08-04:00', 'author': 'Vanguard', 'moddate': '2024-08-28T07:10:40-04:00', 'subject': 'Vanguard research on setting expectations and maximizing the probability of success when using a tax-loss-harvesting strategy', 'title': 'Tax-loss harvesting: Why a personalized approach is important', 'trapped': '/False', 'source': 'hw2.pdf', 'total_pages': 16, 'page': 4, 'page_label': '5'}, page_content='5\\nFIGURE 2 \\nRobust TLH benefit requires all three drivers: Loss generation, conversion to tax savings,  \\nand increased market exposure\\nDrivers Factors\\nRelative  \\nimportance\\nLoss  \\ngeneration  \\n31%\\nVolatility Security volatility, especially shortly after investment, drives prices below \\ntheir cost basis, enabling loss harvesting.\\n17%\\nHarvest  \\nfrequency\\nMonitoring the portfolio regularly for harvests enables a greater capture \\nof ephemeral losses (Khang, Cummings, and Paradise, 2022).\\n7%\\nRecurring  \\ninvestments\\nNew investments represent new tax-loss-harvesting opportunities \\nbecause they create new lots more likely to fall below their cost basis in \\nan appreciating market.\\n2%\\nPortfolio granularity \\n(e.g., direct indexing)\\nIn addition to broad market volatility, cross-sectional volatility between \\nsecurities, unlocked by owning small portfolio building blocks (for \\nexample, direct indexing), increases loss-harvesting opportunities.\\n3%\\nTime horizon As markets appreciate and more losses are harvested from a portfolio, \\nthe relative cost basis of the portfolio is lower, making future harvest \\nopportunities rarer.\\n2%\\nConversion  \\nto tax  \\nsavings \\n32%\\nCurrent and  \\nfuture taxes\\nThe higher the current tax rate, the more tax savings are generated  \\nby offsetting income. The lower the future tax rate, the lower the \\nembedded tax liability created by TLH. Additionally, the degree to which \\nthe taxable portfolio is eventually liquidated is proportional to the \\namount in taxes generated by TLH because of the step-up in cost basis \\nprovision. The basis for inherited assets is their appraised value at the \\ndate of death. See IRS Publication 551 for additional information.\\n27%\\nLoss offsetting \\nincome\\nCapital gains are required to turn loss harvests into tax savings (Khang, \\nParadise, and Dickson, 2021). Without capital gains, taxable income can \\nbe reduced by up to just $3,000 of ordinary income.\\n5%\\nMarket  \\nexposure \\n37%\\nReinvesting  \\ntax savings\\nThe more an investor reinvests tax savings, the more efficiently the \\ninvestor leverages deferred taxes to increase market exposure. In \\naddition, the investor is creating more opportunities for future harvests.\\n25%\\nMarket return The compounding of reinvested tax savings is proportional to the market \\nreturn after reinvestment. On the other hand, steadily appreciating \\nmarkets reduce opportunities for tax-loss harvesting.\\n12%\\nNotes: Relative importance was determined by SHAP (SHapley Additive exPlanations) analysis. More details can be found in the Appendix. Data for the SHAP \\nanalysis was generated systematically using approximately 10,000 simulations over historical market returns from January 1982 through March 2023. The following \\nvariables were randomized using uniform distributions to create the simulations: harvest tax rate, liquidation tax rate, loss offsetting income, portfolio granularity, \\nharvest frequency, quarterly investment amount, level of tax savings reinvestment, start date, and time horizon. The relative importance of the variables noted in \\nFigure 2 is generalized across a wide swath of hypothetical profiles. Because of nonlinear relationships between TLH alpha and these variables, the importance of \\nsome drivers will vary by investor. For instance, when we consider profiles of high-net-worth investors, the importance of direct indexing was 9%. This relationship is \\ndiscussed more later.\\nSources: Vanguard calculations, using data from Axioma.'),\n",
              " Document(metadata={'producer': 'Adobe PDF Library 17.0', 'creator': 'Adobe InDesign 19.3 (Macintosh)', 'creationdate': '2024-08-28T05:51:08-04:00', 'author': 'Vanguard', 'moddate': '2024-08-28T07:10:40-04:00', 'subject': 'Vanguard research on setting expectations and maximizing the probability of success when using a tax-loss-harvesting strategy', 'title': 'Tax-loss harvesting: Why a personalized approach is important', 'trapped': '/False', 'source': 'hw2.pdf', 'total_pages': 16, 'page': 5, 'page_label': '6'}, page_content=\"6\\nIt’s about the amount of taxes you save, \\nnot the amount of losses you harvest\\nFor each investor, either the ability to generate \\nlosses or the ability to convert losses into tax \\nsavings will determine whether the investor can \\nfurther benefit from TLH. Investors will want to \\ntake different courses of action to expand one \\ncapacity or the other. In some cases, investors  \\nwill not have sufficient losses to offset all their \\ncapital gains. This is common for certain (ultra) \\nhigh-net-worth investors who tend to generate \\ncapital gains income from various asset holdings. \\nIn these cases, they will want to generate more \\nlosses by increasing portfolio granularity with \\ndirect indexing or increasing harvesting intensity. \\nHowever, in alternative scenarios, investors may \\nhave more than sufficient capital losses to offset \\ntheir available capital gains, or they may expect \\ntheir taxes to rise in the future. This is common \\nfor primarily passive investing accumulators \\nwhose products are tax-efficient—they do not \\ngenerate significant gain distributions or \\nregularly draw down their portfolios to create \\ncapital gains. In either situation—insignificant \\ngain distributions or lack of regular drawdowns—\\nthese investors may not be suitable candidates \\nfor interventions aimed at increasing loss \\nharvests, such as direct indexing. If these \\ninvestors already have sufficient losses to offset \\nall their gains and $3,000 of income annually, \\nincreasing harvests may yield no benefit in the \\ncurrent period, while introducing additional \\ntransaction costs and tracking error into the \\nportfolio. If the investors expect their taxes to  \\nbe higher in the future, any harvests may only \\nsubtract value. It is important for investors to \\nconsider how their situations may change over \\ntime. Even if they do not need additional harvests \\nright now, those losses can be carried forward to \\nfuture years to offset future ordinary income and \\ncapital gains.\\nThe personalized nature of TLH benefit is best \\nillustrated in the context of what is specific to  \\nthe investor, what an investor can influence,  \\nand what is outside an investor’s control. In this \\nframework, using the relative importance of the \\ndrivers in Figure 2, we find that each component \\naccounts for roughly a third of the outcome \\n(Figure 3). The biggest component drivers  \\nare whether investors are disciplined about \\nreinvesting the tax savings yielded from the  \\nTLH process and what their current and future \\ntax rates are.\\nFIGURE 3 \\nThe benefit of TLH depends on three broad, \\nroughly equal components\\nRelative importance\\n37%\\nFeatures an investor \\ncan influence\\n0\\n25\\n50\\n75\\n100%\\n34%\\nFeatures specific \\nto the investor\\n28%\\nFeatures an investor \\ncan’t influence\\nNotes: Relative importance was determined from SHAP analysis. More details \\ncan be found in the Appendix. Data for the SHAP analysis were generated \\nsystematically using approximately 10,000 simulations over historical market \\nreturns from January 1982 through March 2023. The following variables were \\nrandomized using uniform distributions to create the simulations: harvest tax \\nrate, liquidation tax rate, loss offsetting income, portfolio granularity, harvest \\nfrequency, quarterly investment amount, level of tax savings reinvestment, \\nstart date, and time horizon. Features specific to the investor include time \\nhorizon, current and future tax rates, and loss offsetting income. Features \\nan investor can influence include recurring investments, portfolio granularity, \\nharvest frequency, and reinvesting tax savings. Features an investor can't \\ninfluence include volatility and market return. Percentages do not add up to \\n100% because of rounding.\\nSources: Vanguard calculations, using data from Axioma.\"),\n",
              " Document(metadata={'producer': 'Adobe PDF Library 17.0', 'creator': 'Adobe InDesign 19.3 (Macintosh)', 'creationdate': '2024-08-28T05:51:08-04:00', 'author': 'Vanguard', 'moddate': '2024-08-28T07:10:40-04:00', 'subject': 'Vanguard research on setting expectations and maximizing the probability of success when using a tax-loss-harvesting strategy', 'title': 'Tax-loss harvesting: Why a personalized approach is important', 'trapped': '/False', 'source': 'hw2.pdf', 'total_pages': 16, 'page': 6, 'page_label': '7'}, page_content='7\\nRisks and other key considerations \\nassociated with TLH\\nIt is important to note that TLH is not a free \\nlunch. There are risks for any investor engaging  \\nin TLH and it can even subtract value in certain \\ncircumstances. We review these risks along with \\nother issues:\\nWash sales\\nA critical limitation on the application of TLH  \\nis the wash sale rule—a provision designed to \\nprevent investors from abusing TLH by realizing \\nlosses while maintaining exposure to the harvested \\nsecurities or those that would behave nearly \\nidentically. The rule prohibits investors from \\nclaiming a loss on a sale if they purchase a \\n“substantially identical” security within 30 days \\nbefore or after the sale.2\\n2 See IRS Revenue Ruling 2008–5 for additional information.\\nTo mitigate this risk, investors must carefully \\nselect replacement securities that maintain a \\ndesirable but distinct exposure to avoid running \\nafoul of the rule. Notably, this is mainly a risk for \\ninvestors who conduct TLH in a portfolio with \\ncommingled funds, such as mutual funds and \\nETFs, which may have several replacements  \\nthat behave nearly identically.\\nOssification\\nWhen securities are harvested and the proceeds \\nare reinvested, the cost basis of the portfolio  \\nis pushed down. This, in combination with the \\nupward historical trend of markets, makes those \\nassets from the reinvested proceeds harder to \\nharvest in the future, which can manifest in \\ndwindling TLH alpha over the investment horizon \\n(Figure 4). This hardening of the portfolio against \\nharvest opportunities is commonly known as \\n“ossification.” Investors who find this property \\nundesirable may broaden their harvesting \\nopportunities by investing dividends, tax savings, \\nand external cash flows in the portfolio to create \\nnew tax lots at higher cost bases (Khang, Paradise, \\nand Cummings, 2023). These new tax lots are \\nmore likely to be harvestable with normal market \\nvolatility. \\nIt is also important to note that even portfolios \\nwith very low cost bases can be “de-ossified” \\nduring extreme market downturns such as those \\nin 2008 and 2020. The need to prepare for the \\npossibility of ossification is greatest among \\ninvestors well-suited to TLH—those who have \\nregular capital gains to offset and who expect  \\na high TLH benefit.\\nFIGURE 4\\nTLH value can diminish over time without diligent cost basis renewal\\n0.0\\n1.0\\n2.0\\n3.0\\n4.0%\\n1 2 3 4 5 6 7 8 9 10 11 12 13 14 15 16 17 18 19 20\\nTLH alpha\\nYears\\n90% probability\\n50% probability \\n(median)\\n10% probability\\nNotes: The TLH simulations use historical market returns from January 1982 through March 2023. The distribution of projected outcomes is determined using \\nrolling time periods of the same length. This chart uses profile assumptions consistent with Profile 3 described in Figure 7, on page 9. Tax savings are calculated \\nassuming that two-thirds of offset income is subject to long-term capital gains tax rates and one-third is short-term gains subject to ordinary income tax rates. \\nThe simulations include scanning for harvests daily, reinvesting all tax savings in the portfolio, making quarterly contributions equal to 10% of the initially invested \\nprincipal, and harvesting in a direct-indexed portfolio of 400 securities. TLH alpha numbers are annualized over the simulation period.\\nSources: Vanguard calculations, using data from Axioma.'),\n",
              " Document(metadata={'producer': 'Adobe PDF Library 17.0', 'creator': 'Adobe InDesign 19.3 (Macintosh)', 'creationdate': '2024-08-28T05:51:08-04:00', 'author': 'Vanguard', 'moddate': '2024-08-28T07:10:40-04:00', 'subject': 'Vanguard research on setting expectations and maximizing the probability of success when using a tax-loss-harvesting strategy', 'title': 'Tax-loss harvesting: Why a personalized approach is important', 'trapped': '/False', 'source': 'hw2.pdf', 'total_pages': 16, 'page': 7, 'page_label': '8'}, page_content='8\\nCapital gains availability\\nInvestors need sufficient access to capital gains \\nto convert loss harvests into tax savings, and  \\nthe aggressiveness of their tax-loss-harvesting \\nprogram should be calibrated based on capital \\ngains availability (Khang, Paradise, and Dickson, \\n2021). This can represent a risk because it can  \\nbe difficult to predict the amount and timing of \\ncapital gains in the future. One way to mitigate \\nthis risk is to consider what future events may \\ncause significant gain realization and consider \\nthem as part of a holistic financial plan. For \\nexample, selling a sizable amount of investments \\nto make a large purchase such as a house or \\nselling a personal business represent foreseeable \\ntax-planning events that could be considered in \\na TLH plan.\\nFIGURE 5 \\n2024 0% tax rates\\nType Single\\nMarried  \\nfiling jointly\\nLong-term  \\ncapital gains\\nUp to $61,625* Up to $123,250 *\\nOrdinary income/  \\nshort-term  \\ncapital gains\\nUp to $14,600 * Up to $29,200 *\\n* Assumes $14,600 standard deduction for single filers and $29,200 for \\nmarried filers, filing jointly.\\nNote: If an asset is held for more than one year before it is sold, the capital \\ngain or loss is considered long-term. See IRS topic number 409 for more \\ninformation.\\nSources: Vanguard calculations, using data from the IRS.\\nTax rate changes\\nAs discussed earlier, deferring taxes to a point \\nwhen tax rates are higher can subtract value.  \\nThe easiest way to mitigate this is to not engage \\nin tax-loss harvesting when subject to “0% tax \\nrates” (Figure 5)—that is, the capital gains or  \\nthe income are not high enough to trigger a tax. \\nHowever, many investors can find it challenging to \\npredict their future tax rates if they expect their \\ncircumstances or earning power to change over \\ntime. In addition, the tax code can always change, \\npotentially leading to higher future tax rates or \\nthe creation of other provisions to limit the \\nefficacy of TLH.\\nMarket environment\\nUltimately, TLH value will be amplified or \\ndampened by the market return over the \\ninvestment horizon. One way to think of the  \\nTLH process is in terms of leverage. By harvesting \\na loss, investors are borrowing money from their \\nfuture selves in the form of tax deferral. As with \\nleverage, the benefit they receive from this \\n“borrowed” money is directly proportional to the \\nmarket return they can achieve with the invested \\ntax savings. Typically, in rising markets, this \\ntranslates to a benefit; however, investors  \\nwho exit the market after a sharp downturn, \\nconcluding TLH-based investing, can be harmed \\nby tax-loss harvesting because they increased \\ntheir exposure to a negative market. Figure 6 \\nillustrates the variability in TLH outcomes purely \\nas a function of market timing.'),\n",
              " Document(metadata={'producer': 'Adobe PDF Library 17.0', 'creator': 'Adobe InDesign 19.3 (Macintosh)', 'creationdate': '2024-08-28T05:51:08-04:00', 'author': 'Vanguard', 'moddate': '2024-08-28T07:10:40-04:00', 'subject': 'Vanguard research on setting expectations and maximizing the probability of success when using a tax-loss-harvesting strategy', 'title': 'Tax-loss harvesting: Why a personalized approach is important', 'trapped': '/False', 'source': 'hw2.pdf', 'total_pages': 16, 'page': 8, 'page_label': '9'}, page_content='9\\nFIGURE 6 \\nTLH benefits vary with market performance\\nRolling 10-year periods\\n1982–\\n1991\\n1986–\\n1995\\n1990–\\n1999\\n1994–\\n2003\\n1998–\\n2007\\n2002–\\n2011\\n2006–\\n2015\\n2010–\\n2019\\n2013–\\n2022\\n/zero.tf./six.tf\\n/one.tf./zero.tf\\n/one.tf./four.tf\\n/one.tf./eight.tf%\\nTLH alpha\\nScenarios including the\\nglobal financial crisis\\nNotes: The TLH simulations use 10-year rolling periods over historical market returns from January 1982 through March 2023. This chart uses profile assumptions \\nconsistent with Profile 3 described in Figure 7. Tax savings are calculated assuming that two-thirds of offset income is subject to long-term capital gains tax \\nrates and one-third is subject to ordinary income tax rates. The simulations include scanning for harvests daily, reinvesting all tax savings in the portfolio, making \\nquarterly contributions equal to 10% of the initially invested principal, and harvesting in a direct-indexed portfolio of 400 securities. TLH alpha numbers are \\nannualized over the simulation period. \\nSources: Vanguard calculations, using data from Axioma.\\nPast performance is no guarantee of future results.\\nProfile analysis\\nArmed with an understanding of the driving \\nfeatures of TLH and their relative importance,  \\nwe can illustrate expected ranges of TLH value \\nthrough varying key investor attributes and \\nbehaviors. We anchor this analysis in the Survey \\nof Consumer Finances (SCF) to give a realistic \\nexpectation of potential value based on client net \\nworth and associated demographic information.\\nThe SCF is a longitudinal study conducted by the \\nFederal Reserve. It provides comprehensive data \\non the financial conditions of U.S. households \\nincluding income, net worth, and asset ownership. \\nWe use it to create realistic representations of \\ndifferent investor types across net-worth groups \\n(Figure 7).\\nFIGURE 7\\nFour profiles representing net-worth groups\\nType Profile 1 Profile 2 Profile 3 Profile 4\\nNet-worth group \\n(percentiles)\\n75th to 90th 90th to 95th 95th to 98th Top 2%\\nOrdinary income  \\ntax rate\\n22.0% 24.0% 41.3% 48.3%\\nLong-term capital  \\ngains tax rate\\n15.0% 15.0% 24.3% 31.3%\\nOffsettable income 2% 4% 6% 9%\\nNotes: Profiles 1 and 2 are assumed to have no additional state income taxes. Profile 3 is assumed to be subject to a 32% federal marginal income tax rate,  \\na 15% federal marginal long-term capital gains tax rate, and a 9.3% California marginal capital gains tax rate. Profile 4 is assumed to be subject to a 37%  \\nfederal marginal income tax rate, a 20% federal marginal long-term capital gains tax rate, and an 11.3% California marginal capital gains tax rate.\\nSources: Vanguard calculations, using data from the Survey of Consumer Finances.'),\n",
              " Document(metadata={'producer': 'Adobe PDF Library 17.0', 'creator': 'Adobe InDesign 19.3 (Macintosh)', 'creationdate': '2024-08-28T05:51:08-04:00', 'author': 'Vanguard', 'moddate': '2024-08-28T07:10:40-04:00', 'subject': 'Vanguard research on setting expectations and maximizing the probability of success when using a tax-loss-harvesting strategy', 'title': 'Tax-loss harvesting: Why a personalized approach is important', 'trapped': '/False', 'source': 'hw2.pdf', 'total_pages': 16, 'page': 9, 'page_label': '10'}, page_content='10\\nBy simulating TLH alpha for these profiles, we \\ncan identify reasonable expectations for investors \\nin these net-worth groups given a variety of \\nhistorical economic scenarios. In addition, we can \\nshow how optimal behavior will vary outcomes.\\nFigure 8 shows the expected outcomes for  \\nTLH over time. The left side shows how each \\nnet-worth group is projected to fare when \\nengaging in suboptimal TLH behavior. This \\nincludes quarterly harvesting, reinvesting 50%  \\nof tax savings, no ongoing cash flows, and \\ninvesting in a commingled fund. The optimal \\nbehavior considered includes harvesting daily, \\nreinvesting all tax savings, making quarterly \\ncontributions, and harvesting in a direct-indexed \\nportfolio—many of which are covered in Khang, \\nCummings, and Paradise (2022).\\nAs shown, higher-net-worth investors are more \\nlikely to benefit from TLH. The median 15-year \\nprojected annualized TLH alpha across these \\nnet-worth profiles was 0.47%, 0.65%, 1.00%,  \\nand 1.27%, respectively, in the context of their \\ntaxable equity portfolio when simulating optimal \\nbehavior. This compares with 0.04%, 0.05%, \\n0.10%, and 0.13% when simulating suboptimal \\nbehavior. We also see ossification, the pattern \\ndescribed earlier in the paper, at work—TLH alpha \\ndiminishes over time. It is most notable for \\nhigh-net-worth investors well-suited to TLH. \\nFinally, we can see that any net-worth group can \\nhave a significant impact on its expected TLH \\nalpha by engaging in optimal behaviors such as \\ndaily harvest screening, reinvesting tax savings, \\nmaking ongoing contributions to the portfolio, \\nand using a more granular portfolio when suitable.\\nFIGURE 8 \\nRange of TLH alpha by net-worth group and investor behavior\\nSuboptimal behavior\\nProfile \\n1\\nProfile \\n2\\nProfile \\n3\\nProfile \\n4\\nTLH alpha\\n0.0\\n0.5\\n1.0\\n1.5\\n2.0\\n2.5%\\nYears\\n5 10 15 20\\nOptimal behaviorTLH alpha\\n0.0\\n0.5\\n1.0\\n1.5\\n2.0\\n2.5%\\nYears\\n105 15 20\\n4\\n3\\n2\\n1\\nNotes: The TLH simulations use historical market returns from January 1982 through March 2023. The distribution of projected outcomes is determined using \\nrolling time periods of the same length. This chart uses profile assumptions described in Figure 7. Tax savings are calculated assuming that two-thirds of offset \\nincome is subject to long-term capital gains tax rates and one-third is subject to ordinary income tax rates. The left side of the chart represents suboptimal \\nbehavior including scanning for harvests quarterly, reinvesting 50% of tax savings in the portfolio, making no quarterly contributions, and harvesting in a single \\ncommingled fund. The right side of the chart represents optimal behavior including scanning for harvests daily, reinvesting all tax savings in the portfolio, making \\nquarterly contributions equal to 10% of the initially invested principal, and harvesting in a direct-indexed portfolio of 400 securities. TLH alpha numbers are \\nannualized over the simulation period.\\nSources: Vanguard calculations, using data from Axioma.'),\n",
              " Document(metadata={'producer': 'Adobe PDF Library 17.0', 'creator': 'Adobe InDesign 19.3 (Macintosh)', 'creationdate': '2024-08-28T05:51:08-04:00', 'author': 'Vanguard', 'moddate': '2024-08-28T07:10:40-04:00', 'subject': 'Vanguard research on setting expectations and maximizing the probability of success when using a tax-loss-harvesting strategy', 'title': 'Tax-loss harvesting: Why a personalized approach is important', 'trapped': '/False', 'source': 'hw2.pdf', 'total_pages': 16, 'page': 10, 'page_label': '11'}, page_content='11\\nCase study\\nTo further illustrate the potential value and \\nvariance of TLH alpha resulting from tax-loss \\nharvesting, we consider two hypothetical cases. \\nMass-affluent investor\\nThe first case features an affluent investor \\n(75th–90th-percentile net worth). This investor \\nprimarily invests in passive, tax-efficient, \\ncommingled ETFs. Approximately 25% of this \\ninvestor’s portfolio is invested in taxable equity \\nassets. To illustrate how market conditions and \\nluck will influence an investor’s outcomes, we use \\nrolling historical periods to create a distribution \\nof projected outcomes (Figure 9). We show two \\nsets of projections. The first indicates the range \\nof expected TLH alpha on taxable equity assets. \\nThe second indicates the range of expected TLH \\nalpha when scaled relative to the entire portfolio.\\nNote that the range of benefit that any individual \\ninvestor will receive can vary dramatically as \\nevidenced by the range of values between  \\n10th-percentile outcomes and 90th-percentile \\noutcomes. Even if an investor is well-suited to \\nTLH and acts to maximize the potential for \\nsuccess, market volatility, return, and luck will \\ndrive a significant portion of the realized TLH \\nvalue, particularly in the near term. The expected \\n15-year annualized TLH alpha for this investor is \\n47 basis points. (A basis point is one-hundredth  \\nof a percentage point.) This number, however, \\napplies only to taxable equity assets. When  \\nTLH alpha is considered in the context of the \\ninvestor’s entire portfolio—taking into account \\nthe proportion of taxable equity assets in the \\nportfolio—this value drops to 12 basis points. \\nMore than anything else, this case study \\nillustrates the importance of looking at TLH \\nbenefit from the perspective of the entire \\nportfolio and setting reasonable expectations \\nwhen comparing investment options. For \\ninvestors ideally suited to TLH, the commonly \\ndiscussed TLH benefit on the order of 100 basis \\npoints may be relevant for the entire portfolio.3\\n3 Depending on the investor profile, there may be additional portfolio construction implications for the entire portfolio (Khang, Cummings, Paradise,  \\nand O’Connor, 2022).\\n \\nBut there are many other investors for whom  \\nTLH benefit in the context of the entire portfolio \\nmay be materially smaller.\\nFIGURE 9 \\nTLH alpha should be considered in the context of the entire portfolio\\nTaxable equity assets only\\n90% probability\\n50% probability \\n(median)\\n10% probabilityTotal portfolio\\nTLH alpha\\n0.0\\n0.2\\n0.4\\n0.6\\n0.8\\n1.0%\\n5 6 7 8 9 10 11 12 13 14 15 16 17 18 19 20\\nYears\\nNotes: The TLH simulations use historical market returns from January 1982 through March 2023. The distribution of projected outcomes is determined using \\nrolling time periods of the same length. This chart uses profile assumptions consistent with Profile 1 described in Figure 7. Tax savings are calculated assuming \\nthat two-thirds of offset income is subject to long-term capital gains tax rates and one-third is subject to ordinary income tax rates. The simulations include \\nscanning for harvests daily, reinvesting all tax savings in the portfolio, making quarterly contributions equal to 10% of the initially invested principal, and \\nharvesting in a direct-indexed portfolio of 400 securities. TLH alpha numbers are annualized over the simulation period.\\nSources: Vanguard calculations, using data from Axioma.'),\n",
              " Document(metadata={'producer': 'Adobe PDF Library 17.0', 'creator': 'Adobe InDesign 19.3 (Macintosh)', 'creationdate': '2024-08-28T05:51:08-04:00', 'author': 'Vanguard', 'moddate': '2024-08-28T07:10:40-04:00', 'subject': 'Vanguard research on setting expectations and maximizing the probability of success when using a tax-loss-harvesting strategy', 'title': 'Tax-loss harvesting: Why a personalized approach is important', 'trapped': '/False', 'source': 'hw2.pdf', 'total_pages': 16, 'page': 11, 'page_label': '12'}, page_content='12\\nHigh-net-worth investor with expected  \\nsale of business\\nA common use case of tax-loss harvesting is  \\nto mitigate the realized gains from a significant \\ntransaction such as the sale of real estate or a \\nbusiness (Figure 10). This case features a high- \\nnet-worth business owner (95th–98th-percentile \\nnet worth). The business owner primarily invests \\nin individual securities to maximize the losses \\nachievable from TLH and to minimize the \\ninvestment portfolio’s exposure to the industry  \\nin which the owner does business. The business \\nowner does not regularly realize capital gains but \\nexpects to sell the business in five years, realizing \\ngains representing 100% of the owner’s taxable \\nequity assets.\\nBy engaging in TLH, this business owner is \\nprojected to improve the portfolio return by \\napproximately 50 basis points following the sale \\nof the business. This scenario also illustrates that \\neven investors who may not benefit in the short \\nterm from TLH may still wish to harvest losses  \\nif they are likely to be suitable candidates in \\nthe future.\\nFIGURE 10\\nTLH can mitigate the tax impact of a sale with large capital gains implications\\nBusiness sold at Year 5\\nTLH alpha\\nYears\\n–0.5\\n0.0\\n0.5\\n1.0\\n1.5\\n2.0\\n2.5%\\n1 2 3 4 5 6 7 8 9 10 11 12 13 14 15 16 17 18 19 20\\n90% probability\\n50% probability \\n(median)\\n10% probability\\nNotes: The TLH simulations use historical market returns from January 1982 through March 2023. The distribution of projected outcomes is determined using rolling \\ntime periods of the same length. This chart uses profile assumptions consistent with Profile 3 described in Figure 7. Prior to five years, no additional offsettable \\nincome is assumed. At Year 5, loss offsetting income equal to 100% of the account is assumed. After Year 5, 6% loss offsetting income is assumed, consistent with \\nProfile 3. Tax savings are calculated assuming that two-thirds of offset income is subject to long-term capital gains tax rates and one-third is subject to ordinary \\nincome tax rates. The simulations include scanning for harvests daily, reinvesting all tax savings in the portfolio, making quarterly contributions equal to 10% of the \\ninitially invested principal, and harvesting in a direct-indexed portfolio of 400 securities. TLH alpha numbers are annualized over the simulation period.\\nSources: Vanguard calculations, using data from Axioma.'),\n",
              " Document(metadata={'producer': 'Adobe PDF Library 17.0', 'creator': 'Adobe InDesign 19.3 (Macintosh)', 'creationdate': '2024-08-28T05:51:08-04:00', 'author': 'Vanguard', 'moddate': '2024-08-28T07:10:40-04:00', 'subject': 'Vanguard research on setting expectations and maximizing the probability of success when using a tax-loss-harvesting strategy', 'title': 'Tax-loss harvesting: Why a personalized approach is important', 'trapped': '/False', 'source': 'hw2.pdf', 'total_pages': 16, 'page': 12, 'page_label': '13'}, page_content='13\\nConclusion\\nThis article explored personalized expectations for \\ntax-loss harvesting and the behaviors investors \\ncan emulate to increase their odds of success.  \\nWe showed that TLH alpha can range widely, \\ndepending on investor characteristics, behavior, \\nand return environment. We quantified the \\nrelative importance of these main determinants  \\nin driving the TLH alpha, finding that the investor \\nhas influence over the greatest amount of alpha \\nvariation (37%). Another 34% is driven by \\ncharacteristics specific to the investor, and the \\nfinal 28% is based on market volatility and \\nreturn—factors largely outside the investor’s \\ncontrol. (These numbers add up to only 99% \\nbecause of rounding.)\\nGiven the significant dispersion around the \\npotential TLH outcomes and the importance  \\nof factors within their control, what should \\nindividual investors do? Our analysis of investor \\nprofiles suggests that investors should engage  \\nin TLH with reasonable expectations of what  \\ncan be achieved. TLH is not without risks, \\nparticularly for investors subject to low taxes  \\nin the current period. The most important thing \\nthat any investor can do to maximize the potential \\nfor TLH success is to reinvest tax savings in the \\nportfolio. \\nReferences\\nAladangady, Aditya, Jesse Bricker, Andrew C. \\nChang, Sarena Goodman, Jacob Krimmel, Kevin \\nB. Moore, Sarah Reber, Alice Henriques Volz, and \\nRichard Windle, 2023. Changes in U.S. Family \\nFinances From 2019 to 2022: Evidence From the \\nSurvey of Consumer Finances. Washington, D.C.: \\nBoard of Governors of the Federal Reserve System. \\nBerkin, Andrew L., and Jia Ye, 2003. Tax \\nManagement, Loss Harvesting, and HIFO \\nAccounting. Financial Analysts Journal 59(4): 91–102.\\nChaudhuri, Shomesh E., Terence C. Burnham, and \\nAndrew W. Lo, 2020. An Empirical Evaluation of  \\nTax-Loss Harvesting Alpha. Financial Analysts \\nJournal 76(3): 99–108. \\nKhang, Kevin, Thomas Paradise, and Joel Dickson, \\n2021. Tax-Loss Harvesting: An Individual Investor’s \\nPerspective. Financial Analysts Journal 77(4):  \\n128–150.\\nKhang, Kevin, A. Cummings, and Thomas H. \\nParadise, 2022. Optimal Tax-Loss-Harvesting \\nImplementation. The Journal of Beta Investment \\nStrategies, Direct Indexing 2022, 13(2): 75–89.\\nKhang, Kevin, Alan Cummings, Thomas Paradise, \\nand Brennan O’Connor, 2022. Personalized Indexing: \\nA Portfolio Construction Plan . Valley Forge, Pa.:  \\nThe Vanguard Group. \\nKhang, Kevin, Thomas Paradise, and Alan Cummings, \\n2023. Expected Loss Harvest From Tax-Loss \\nHarvesting With Direct Indexing. The Journal of Beta \\nInvestment Strategies, Direct Indexing 2023, 14(3): \\n42–56.\\nVanguard Group, 2023. Vanguard’s Principles for \\nInvesting Success. Valley Forge, Pa.: The Vanguard \\nGroup.'),\n",
              " Document(metadata={'producer': 'Adobe PDF Library 17.0', 'creator': 'Adobe InDesign 19.3 (Macintosh)', 'creationdate': '2024-08-28T05:51:08-04:00', 'author': 'Vanguard', 'moddate': '2024-08-28T07:10:40-04:00', 'subject': 'Vanguard research on setting expectations and maximizing the probability of success when using a tax-loss-harvesting strategy', 'title': 'Tax-loss harvesting: Why a personalized approach is important', 'trapped': '/False', 'source': 'hw2.pdf', 'total_pages': 16, 'page': 13, 'page_label': '14'}, page_content='14\\nAppendix \\nData and tax-loss-harvesting algorithm\\nConstituents of our U.S. equity capitalization-\\nweighted index come from the top 400 securities \\nby market capitalization in the Axioma US4 risk \\nmodel, which we refer to as “Axioma 400.” This \\nindex reconstitutes on the first day of each \\ncalendar year, using market capitalizations as of \\nthe last day of the prior calendar year.  Securities \\nthat would be subject to mergers and acquisitions \\nin the upcoming calendar year are excluded from \\nconsideration for Axioma 400. Daily returns in the \\nAxioma 400 universe range from the beginning of \\n1982 to the end of March 2023. \\nTo construct different levels of aggregated \\nsecurities, securities are grouped randomly  \\ninto aggregate assets of equivalent counts of \\nsecurities. Each aggregate security maintains the \\nsummed market capitalization of its components \\nso that the market return of the entire portfolio \\nis maintained.\\nOur decision to use this synthetic index instead  \\nof the Standard & Poor’s 500 Index or the Russell \\n1000 Index is primarily driven by the ease of \\naccessibility to daily information on returns and \\ndividends at the individual-security level. In terms \\nof aggregate index-level returns, Axioma 400 \\nbehaves very similarly to the S&P 500 Index, the \\nRussell 1000 Index, and the Russell 3000 Index, \\nwith an R-squared of 95% to 96%, β of 0.99 to \\n1.01, and α of −0.01 to 0.01 when we regress \\nAxioma 400 returns on these other indexes.\\nOur TLH algorithm maintains individual tax lot \\nholdings of all individual-security positions daily. \\nWe consider every security to have a single \\nperfect replacement. We can sell one security in  \\na pair and buy the other. That said, our algorithm \\ndoes not trade a security if either its sale or the \\npurchase of the replacement would result in a \\nwash sale. In cases where neither the original \\nsecurity nor the single perfect replacement is \\navailable for purchase because of wash sale \\nconsiderations, the weights of other available \\nsecurities are proportionally increased. This \\napproach isolates the availability of losses from \\nthe effects of tracking error in navigating the \\nwash sale rule. The effect of this treatment may \\nnot be neutral, so this guides our interpretation  \\nof the loss-harvest results to be indicative of the \\nloss-harvesting opportunity existing throughout \\nthe 40-year history we examine.\\nThe TLH portfolio receives an initial cash \\ncontribution at the beginning of the period, and \\nat the beginning of subsequent quarters based \\non the cash contribution scenario. During the  \\nrun, all subsequent cash infusions, dividends,  \\nand proceeds from security sales are kept in  \\ncash until either the beginning of the next quarter  \\nor the next loss harvest, whichever comes first, \\nwhen all available cash is invested toward the \\ntarget allocation of the portfolio.'),\n",
              " Document(metadata={'producer': 'Adobe PDF Library 17.0', 'creator': 'Adobe InDesign 19.3 (Macintosh)', 'creationdate': '2024-08-28T05:51:08-04:00', 'author': 'Vanguard', 'moddate': '2024-08-28T07:10:40-04:00', 'subject': 'Vanguard research on setting expectations and maximizing the probability of success when using a tax-loss-harvesting strategy', 'title': 'Tax-loss harvesting: Why a personalized approach is important', 'trapped': '/False', 'source': 'hw2.pdf', 'total_pages': 16, 'page': 14, 'page_label': '15'}, page_content='15\\nLoss harvesting is initiated if a given tax lot is  \\nin breach of a loss threshold of 5% relative to  \\nthe cost basis. We keep track of the portfolio’s \\ncumulative loss harvest, net of any capital gains \\nrealized because of index reconstitution. \\nTo quantify the value of tax-loss harvesting and \\nits primary drivers, we use an XGBoost (eXtreme \\nGradient Boosting) regression, a machine-learning \\ntechnique that uses an ensemble of decision trees, \\noptimized through gradient boosting, to predict \\nthe input-output relationship. It is well-suited to \\nour purposes because of its ability to handle \\nnonlinear and complex interactions between \\nvariables relevant to the value of TLH.\\nBy training an XGBoost model on our data, we \\ncan understand the relative importance of driving \\nfactors based on how much they contribute to \\nthe model’s predictive accuracy, giving us a clear \\nindication of which factors are most influential in \\ndetermining the value of TLH. We can also begin \\nto understand the direction and magnitude of \\neach feature’s impact on the value of TLH both \\nindependently and in connection with other \\nfeatures through SHAP (SHapley Additive \\nexPlanations) analysis and partial dependence \\nplots. Ultimately, we can use the trained model  \\nto predict personalized value of TLH for individual \\ninvestors in different scenarios more efficiently \\nthan simulating their performance independently.\\nWe derive the relative importance of our drivers \\nusing SHAP analysis. SHAP values provide a \\nprediction for the marginal contribution of each \\nfeature on the TLH alpha4\\n4 In this analysis, TLH alpha is measured using a time-weighted return (TWR). This measure is useful for understanding how factors influence the efficacy of \\nTLH because it removes the influence of timing of cash flows, making it easier to understand what is driven by factors versus the idiosyncrasies of market-\\ntiming. It is important to note that TWR does not effectively measure the return experienced by the investor. An alternative metric that more accurately \\ncaptures the investor return over time is differential internal rate of return (IRR), which is used in the rest of the analyses in this paper. IRR, however, is \\nsensitive to the cash-flow timing idiosyncrasies discussed above.\\n outcome using a fair \\ndistribution of values for the other considered \\nfeatures. This is distinct from traditional feature \\nimportance, which accounts for the average \\neffects of other features by measuring each \\nfeature’s impact on model error. In this regard, \\nSHAP value better considers the interaction \\nbetween features.'),\n",
              " Document(metadata={'producer': 'Adobe PDF Library 17.0', 'creator': 'Adobe InDesign 19.3 (Macintosh)', 'creationdate': '2024-08-28T05:51:08-04:00', 'author': 'Vanguard', 'moddate': '2024-08-28T07:10:40-04:00', 'subject': 'Vanguard research on setting expectations and maximizing the probability of success when using a tax-loss-harvesting strategy', 'title': 'Tax-loss harvesting: Why a personalized approach is important', 'trapped': '/False', 'source': 'hw2.pdf', 'total_pages': 16, 'page': 15, 'page_label': '16'}, page_content='Connect with Vanguard®\\nvanguard.com\\nAll investing is subject to risk, including possible loss of principal. \\nTax-loss harvesting involves certain risks, including, among others, the risk that the new \\ninvestment could have higher costs than the original investment and could introduce portfolio \\ntracking error into your accounts. There may also be unintended tax implications. We recommend \\nthat you carefully review the terms of the consent and consult a tax advisor before taking action.\\nCFA® is a registered trademark owned by CFA Institute.\\n© 2024 The Vanguard Group, Inc. \\nAll rights reserved. \\nISGTLH 072024')]"
            ]
          },
          "metadata": {},
          "execution_count": 44
        }
      ]
    },
    {
      "cell_type": "code",
      "source": [
        "from langchain.chains.summarize import load_summarize_chain\n",
        "from langchain_community.document_loaders import WebBaseLoader\n",
        "from langchain_openai import ChatOpenAI\n",
        "\n",
        "llm = ChatOpenAI(temperature=0.1, model_name=\"gpt-4-turbo-preview\", api_key=open_ai_key)\n",
        "chain = load_summarize_chain(llm, chain_type=\"stuff\")\n",
        "\n",
        "res = chain.invoke(pages[0:16])\n",
        "res\n",
        "print(res[\"output_text\"])"
      ],
      "metadata": {
        "id": "_ou7B_AcgQ98",
        "colab": {
          "base_uri": "https://localhost:8080/"
        },
        "outputId": "2d6eb1cd-affd-4cda-abbe-391aa9653f6b",
        "collapsed": true
      },
      "execution_count": null,
      "outputs": [
        {
          "output_type": "stream",
          "name": "stdout",
          "text": [
            "The Vanguard research from July 2024 emphasizes the importance of a personalized approach to tax-loss harvesting (TLH), highlighting that the value of TLH varies significantly due to investor characteristics, behaviors, and market conditions. The study, using net-worth-based profiles, demonstrates that optimal TLH behavior, especially the reinvestment of tax savings, significantly improves outcomes across all profiles, with potential TLH alpha ranging between 0.47% and 1.27%. The research underscores that TLH's effectiveness is influenced equally by factors within the investor's control, specific to the investor, and beyond the investor's control. Risks associated with TLH, such as wash sales and ossification, are acknowledged, alongside the strategy's dependency on market performance and tax rate changes. The study concludes that while TLH can offer substantial benefits, especially for high-net-worth individuals, its success is highly dependent on personalized factors and optimal investor behaviors.\n"
          ]
        }
      ]
    },
    {
      "cell_type": "code",
      "source": [
        "# for key, value in res.items():\n",
        "#   print(f\"{key}, {value}\")"
      ],
      "metadata": {
        "collapsed": true,
        "id": "sje9PS2Svq6n"
      },
      "execution_count": null,
      "outputs": []
    },
    {
      "cell_type": "code",
      "source": [
        "# from pprint import pprint\n",
        "# pprint(res)"
      ],
      "metadata": {
        "collapsed": true,
        "id": "TO9JGePbwX27"
      },
      "execution_count": null,
      "outputs": []
    },
    {
      "cell_type": "code",
      "source": [
        "chain_map_reduce = load_summarize_chain(llm, chain_type=\"map_reduce\")\n",
        "res = chain_map_reduce.invoke(pages[0:16])\n",
        "res\n",
        "print(res[\"output_text\"])"
      ],
      "metadata": {
        "colab": {
          "base_uri": "https://localhost:8080/"
        },
        "id": "spEJmY5xuCpm",
        "outputId": "8428de1c-b0d7-4c1e-9244-80227d06ecd2"
      },
      "execution_count": null,
      "outputs": [
        {
          "output_type": "stream",
          "name": "stdout",
          "text": [
            "Vanguard's research from July 2024 underscores the importance of a personalized approach to tax-loss harvesting (TLH), revealing that its effectiveness can significantly vary based on investor characteristics, behaviors, and market conditions. The study, conducted by Thomas Paradise, CFA, Kevin Khang, Ph.D., and Joel M. Dickson, Ph.D., indicates that optimal TLH strategies, especially the reinvestment of tax savings, can enhance portfolio outcomes, potentially adding an annual after-tax return (TLH alpha) between 0.47% and 1.27%. This benefit largely depends on the proportion of taxable equity assets in an investor's portfolio and highlights the nuanced impact of TLH, advocating for tailored investment strategies.\n",
            "\n",
            "The research elaborates on the three main drivers of TLH effectiveness: loss generation, conversion to tax savings, and increased market exposure through reinvestment of tax savings. It also discusses the risks and considerations of TLH, including wash sales and portfolio ossification, and emphasizes the need for careful management and planning around significant financial events and potential tax rate changes. The study uses historical simulation, machine-learning techniques, and SHAP analysis to present a comprehensive view of TLH's value, demonstrating that its success is influenced by a mix of investor actions, characteristics, and market volatility.\n",
            "\n",
            "Furthermore, the document outlines the methodology behind the Axioma 400 index and a TLH algorithm designed to optimize tax efficiency without triggering wash sales. It also distinguishes between using time-weighted return (TWR) and differential internal rate of return (IRR) for measuring TLH effectiveness, highlighting the limitations of TWR and the sensitivity of IRR to cash-flow timing. Vanguard advises investors to consult a tax advisor before engaging in TLH due to potential risks and unintended tax implications, emphasizing the personalized nature of TLH benefits and the importance of disciplined reinvestment of tax savings for maximizing its success.\n"
          ]
        }
      ]
    },
    {
      "cell_type": "code",
      "source": [
        "from langchain.chains.summarize import load_summarize_chain\n",
        "from langchain.chains.combine_documents.stuff import StuffDocumentsChain\n",
        "from langchain.docstore.document import Document\n",
        "from langchain.prompts import PromptTemplate\n",
        "from langchain.chains import LLMChain\n",
        "\n",
        "prompt = PromptTemplate(\n",
        "    input_variables=[\"document\"],\n",
        "    template=\"\"\"Write a summary for a minimum of 5 bullets for the following document:\n",
        "\n",
        "    {document}\n",
        "    Summary:\n",
        "    \"\"\",\n",
        ")\n",
        "\n",
        "\n",
        "#define LLM chain\n",
        "llm = ChatOpenAI(temperature=0.1, model_name=\"gpt-4-turbo-preview\", api_key=open_ai_key)\n",
        "summarization_chain = LLMChain(llm=llm, prompt=prompt)\n",
        "\n",
        "stuff_chain = StuffDocumentsChain(\n",
        "    llm_chain=summarization_chain,\n",
        "    document_variable_name=\"document\",\n",
        ")\n",
        "\n",
        "summary = stuff_chain.run(pages[0:16])\n",
        "print(summary)"
      ],
      "metadata": {
        "colab": {
          "base_uri": "https://localhost:8080/"
        },
        "id": "hE95S8Omve7l",
        "outputId": "358c8a3a-c11c-43c2-b2a6-eedbf15b6112"
      },
      "execution_count": null,
      "outputs": [
        {
          "output_type": "stream",
          "name": "stdout",
          "text": [
            "- The value of tax-loss harvesting (TLH) is highly dependent on individual investor characteristics, behaviors, and market conditions, each contributing roughly one-third to the variation in TLH outcomes. Optimal TLH behavior, particularly the reinvestment of tax savings, significantly enhances TLH benefits.\n",
            "- TLH can yield an additional annual after-tax return (TLH alpha) ranging from 0.47% to 1.27%, depending on the investor's profile and the proportion of taxable equity assets in their portfolio. This emphasizes the importance of a personalized approach to TLH.\n",
            "- The study underscores the importance of reinvesting tax savings from TLH into the portfolio as the most crucial behavior for maximizing TLH benefits. Factors such as volatility, harvest frequency, and market exposure also play significant roles in the effectiveness of TLH.\n",
            "- Risks associated with TLH include the potential for wash sales, portfolio ossification, and the need for sufficient capital gains to convert harvested losses into tax savings. These risks highlight the need for careful planning and consideration of individual circumstances in TLH strategies.\n",
            "- The research concludes that while TLH can offer significant benefits, its value is highly personalized and dependent on a range of factors, including investor behavior, tax rates, and market conditions. Investors are advised to engage in TLH with realistic expectations and consider the entire portfolio context when evaluating TLH's potential benefits.\n"
          ]
        }
      ]
    },
    {
      "cell_type": "markdown",
      "source": [],
      "metadata": {
        "id": "von-gnni55-W"
      }
    },
    {
      "cell_type": "code",
      "source": [
        "!pip install -U langchain-anthropic pandas"
      ],
      "metadata": {
        "colab": {
          "base_uri": "https://localhost:8080/"
        },
        "id": "YOvSltYczvrt",
        "outputId": "5df5cf41-7701-4c40-e270-f14a2d61b58e"
      },
      "execution_count": null,
      "outputs": [
        {
          "output_type": "stream",
          "name": "stdout",
          "text": [
            "Requirement already satisfied: langchain-anthropic in /usr/local/lib/python3.11/dist-packages (0.3.7)\n",
            "Requirement already satisfied: pandas in /usr/local/lib/python3.11/dist-packages (2.2.2)\n",
            "Collecting pandas\n",
            "  Downloading pandas-2.2.3-cp311-cp311-manylinux_2_17_x86_64.manylinux2014_x86_64.whl.metadata (89 kB)\n",
            "\u001b[2K     \u001b[90m━━━━━━━━━━━━━━━━━━━━━━━━━━━━━━━━━━━━━━━━\u001b[0m \u001b[32m89.9/89.9 kB\u001b[0m \u001b[31m2.2 MB/s\u001b[0m eta \u001b[36m0:00:00\u001b[0m\n",
            "\u001b[?25hRequirement already satisfied: anthropic<1,>=0.45.0 in /usr/local/lib/python3.11/dist-packages (from langchain-anthropic) (0.45.2)\n",
            "Requirement already satisfied: langchain-core<1.0.0,>=0.3.34 in /usr/local/lib/python3.11/dist-packages (from langchain-anthropic) (0.3.34)\n",
            "Requirement already satisfied: pydantic<3.0.0,>=2.7.4 in /usr/local/lib/python3.11/dist-packages (from langchain-anthropic) (2.10.6)\n",
            "Requirement already satisfied: numpy>=1.23.2 in /usr/local/lib/python3.11/dist-packages (from pandas) (1.26.4)\n",
            "Requirement already satisfied: python-dateutil>=2.8.2 in /usr/local/lib/python3.11/dist-packages (from pandas) (2.8.2)\n",
            "Requirement already satisfied: pytz>=2020.1 in /usr/local/lib/python3.11/dist-packages (from pandas) (2025.1)\n",
            "Requirement already satisfied: tzdata>=2022.7 in /usr/local/lib/python3.11/dist-packages (from pandas) (2025.1)\n",
            "Requirement already satisfied: anyio<5,>=3.5.0 in /usr/local/lib/python3.11/dist-packages (from anthropic<1,>=0.45.0->langchain-anthropic) (3.7.1)\n",
            "Requirement already satisfied: distro<2,>=1.7.0 in /usr/local/lib/python3.11/dist-packages (from anthropic<1,>=0.45.0->langchain-anthropic) (1.9.0)\n",
            "Requirement already satisfied: httpx<1,>=0.23.0 in /usr/local/lib/python3.11/dist-packages (from anthropic<1,>=0.45.0->langchain-anthropic) (0.28.1)\n",
            "Requirement already satisfied: jiter<1,>=0.4.0 in /usr/local/lib/python3.11/dist-packages (from anthropic<1,>=0.45.0->langchain-anthropic) (0.8.2)\n",
            "Requirement already satisfied: sniffio in /usr/local/lib/python3.11/dist-packages (from anthropic<1,>=0.45.0->langchain-anthropic) (1.3.1)\n",
            "Requirement already satisfied: typing-extensions<5,>=4.10 in /usr/local/lib/python3.11/dist-packages (from anthropic<1,>=0.45.0->langchain-anthropic) (4.12.2)\n",
            "Requirement already satisfied: langsmith<0.4,>=0.1.125 in /usr/local/lib/python3.11/dist-packages (from langchain-core<1.0.0,>=0.3.34->langchain-anthropic) (0.3.6)\n",
            "Requirement already satisfied: tenacity!=8.4.0,<10.0.0,>=8.1.0 in /usr/local/lib/python3.11/dist-packages (from langchain-core<1.0.0,>=0.3.34->langchain-anthropic) (9.0.0)\n",
            "Requirement already satisfied: jsonpatch<2.0,>=1.33 in /usr/local/lib/python3.11/dist-packages (from langchain-core<1.0.0,>=0.3.34->langchain-anthropic) (1.33)\n",
            "Requirement already satisfied: PyYAML>=5.3 in /usr/local/lib/python3.11/dist-packages (from langchain-core<1.0.0,>=0.3.34->langchain-anthropic) (6.0.2)\n",
            "Requirement already satisfied: packaging<25,>=23.2 in /usr/local/lib/python3.11/dist-packages (from langchain-core<1.0.0,>=0.3.34->langchain-anthropic) (24.2)\n",
            "Requirement already satisfied: annotated-types>=0.6.0 in /usr/local/lib/python3.11/dist-packages (from pydantic<3.0.0,>=2.7.4->langchain-anthropic) (0.7.0)\n",
            "Requirement already satisfied: pydantic-core==2.27.2 in /usr/local/lib/python3.11/dist-packages (from pydantic<3.0.0,>=2.7.4->langchain-anthropic) (2.27.2)\n",
            "Requirement already satisfied: six>=1.5 in /usr/local/lib/python3.11/dist-packages (from python-dateutil>=2.8.2->pandas) (1.17.0)\n",
            "Requirement already satisfied: idna>=2.8 in /usr/local/lib/python3.11/dist-packages (from anyio<5,>=3.5.0->anthropic<1,>=0.45.0->langchain-anthropic) (3.10)\n",
            "Requirement already satisfied: certifi in /usr/local/lib/python3.11/dist-packages (from httpx<1,>=0.23.0->anthropic<1,>=0.45.0->langchain-anthropic) (2025.1.31)\n",
            "Requirement already satisfied: httpcore==1.* in /usr/local/lib/python3.11/dist-packages (from httpx<1,>=0.23.0->anthropic<1,>=0.45.0->langchain-anthropic) (1.0.7)\n",
            "Requirement already satisfied: h11<0.15,>=0.13 in /usr/local/lib/python3.11/dist-packages (from httpcore==1.*->httpx<1,>=0.23.0->anthropic<1,>=0.45.0->langchain-anthropic) (0.14.0)\n",
            "Requirement already satisfied: jsonpointer>=1.9 in /usr/local/lib/python3.11/dist-packages (from jsonpatch<2.0,>=1.33->langchain-core<1.0.0,>=0.3.34->langchain-anthropic) (3.0.0)\n",
            "Requirement already satisfied: orjson<4.0.0,>=3.9.14 in /usr/local/lib/python3.11/dist-packages (from langsmith<0.4,>=0.1.125->langchain-core<1.0.0,>=0.3.34->langchain-anthropic) (3.10.15)\n",
            "Requirement already satisfied: requests<3,>=2 in /usr/local/lib/python3.11/dist-packages (from langsmith<0.4,>=0.1.125->langchain-core<1.0.0,>=0.3.34->langchain-anthropic) (2.32.3)\n",
            "Requirement already satisfied: requests-toolbelt<2.0.0,>=1.0.0 in /usr/local/lib/python3.11/dist-packages (from langsmith<0.4,>=0.1.125->langchain-core<1.0.0,>=0.3.34->langchain-anthropic) (1.0.0)\n",
            "Requirement already satisfied: zstandard<0.24.0,>=0.23.0 in /usr/local/lib/python3.11/dist-packages (from langsmith<0.4,>=0.1.125->langchain-core<1.0.0,>=0.3.34->langchain-anthropic) (0.23.0)\n",
            "Requirement already satisfied: charset-normalizer<4,>=2 in /usr/local/lib/python3.11/dist-packages (from requests<3,>=2->langsmith<0.4,>=0.1.125->langchain-core<1.0.0,>=0.3.34->langchain-anthropic) (3.4.1)\n",
            "Requirement already satisfied: urllib3<3,>=1.21.1 in /usr/local/lib/python3.11/dist-packages (from requests<3,>=2->langsmith<0.4,>=0.1.125->langchain-core<1.0.0,>=0.3.34->langchain-anthropic) (2.3.0)\n",
            "Downloading pandas-2.2.3-cp311-cp311-manylinux_2_17_x86_64.manylinux2014_x86_64.whl (13.1 MB)\n",
            "\u001b[2K   \u001b[90m━━━━━━━━━━━━━━━━━━━━━━━━━━━━━━━━━━━━━━━━\u001b[0m \u001b[32m13.1/13.1 MB\u001b[0m \u001b[31m64.9 MB/s\u001b[0m eta \u001b[36m0:00:00\u001b[0m\n",
            "\u001b[?25hInstalling collected packages: pandas\n",
            "  Attempting uninstall: pandas\n",
            "    Found existing installation: pandas 2.2.2\n",
            "    Uninstalling pandas-2.2.2:\n",
            "      Successfully uninstalled pandas-2.2.2\n",
            "\u001b[31mERROR: pip's dependency resolver does not currently take into account all the packages that are installed. This behaviour is the source of the following dependency conflicts.\n",
            "google-colab 1.0.0 requires pandas==2.2.2, but you have pandas 2.2.3 which is incompatible.\u001b[0m\u001b[31m\n",
            "\u001b[0mSuccessfully installed pandas-2.2.3\n"
          ]
        }
      ]
    },
    {
      "cell_type": "code",
      "source": [
        "#claude_ai_key\n",
        "claude_ai_key = userdata.get('claude_key')"
      ],
      "metadata": {
        "id": "V0Fcdodl51Jd"
      },
      "execution_count": null,
      "outputs": []
    },
    {
      "cell_type": "code",
      "source": [
        "from langchain_anthropic import ChatAnthropic\n",
        "from langchain.chains.summarize import load_summarize_chain\n",
        "from langchain.docstore.document import Document\n",
        "from langchain_core.messages import HumanMessage\n",
        "\n",
        "# Initialize the model\n",
        "model_claude = ChatAnthropic(model=\"claude-3-opus-20240229\", temperature=0.1, api_key=claude_ai_key)\n",
        "\n",
        "# Create a human message\n",
        "#message = HumanMessage(content=\"Can you explain the concept of quantum entanglement?\")\n",
        "\n",
        "chain2 = load_summarize_chain(model_claude, chain_type=\"stuff\")\n",
        "\n",
        "res = chain2.invoke(pages[0:16])\n",
        "res\n",
        "print(res[\"output_text\"])"
      ],
      "metadata": {
        "colab": {
          "base_uri": "https://localhost:8080/"
        },
        "id": "B_QOq4lW55SE",
        "outputId": "48f584c5-a859-4a0c-d79c-1147b6a8529a"
      },
      "execution_count": null,
      "outputs": [
        {
          "output_type": "stream",
          "name": "stdout",
          "text": [
            "Here is a concise summary of the key points from the Vanguard research on tax-loss harvesting (TLH):\n",
            "\n",
            "- The value of TLH varies significantly based on investor characteristics, behavior, and market environment. Each of these three categories drives about one-third of the variation in value.\n",
            "\n",
            "- Simulations showed TLH improved outcomes for every investor profile analyzed, relative to suboptimal behavior. The most important behavior driving TLH value is reinvesting the tax savings back into the portfolio. \n",
            "\n",
            "- TLH alpha, the potential additional annual after-tax return from TLH, ranged between 0.47% and 1.27% for the profiles analyzed. However, this must be scaled by the proportion of taxable equity assets in the total portfolio to understand the impact.\n",
            "\n",
            "- Factors specific to the investor, factors the investor can influence, and factors outside the investor's control each account for roughly one-third of the TLH outcome. The biggest drivers are whether investors reinvest the tax savings and their current and future tax rates.\n",
            "\n",
            "- Risks and considerations associated with TLH include wash sales, portfolio ossification over time, availability of capital gains to offset, potential for higher future tax rates, and the market environment over the investment horizon.\n",
            "\n",
            "In summary, TLH value is highly personalized based on investor circumstances and behavior, with a realistic range of 0.47-1.27% additional annual after-tax return for the taxable equity portion of the portfolio. Reinvesting tax savings is the most important factor investors can control to maximize TLH benefits.\n"
          ]
        }
      ]
    },
    {
      "cell_type": "code",
      "source": [
        "chain2 = load_summarize_chain(model_claude, chain_type=\"map_reduce\")\n",
        "\n",
        "res = chain2.invoke(pages[0:16])\n",
        "res\n",
        "print(res[\"output_text\"])"
      ],
      "metadata": {
        "colab": {
          "base_uri": "https://localhost:8080/"
        },
        "id": "V3StqVJG6MBr",
        "outputId": "a8981e7c-da4c-45ff-ca4a-d6259c6e605d"
      },
      "execution_count": null,
      "outputs": [
        {
          "output_type": "stream",
          "name": "stdout",
          "text": [
            "Tax-loss harvesting (TLH) is a strategy used to improve after-tax returns by realizing capital losses to offset gains and income. The value of TLH depends on three key factors: generating losses through portfolio volatility, efficiently converting losses into tax savings, and reinvesting tax savings for long-term growth. Historical simulations and machine learning techniques reveal that the relative importance of these factors is roughly equal, with market exposure being the most crucial.\n",
            "\n",
            "Investors can maximize TLH benefits by focusing on controllable factors such as recurring investments, portfolio granularity, harvest frequency, and reinvesting tax savings. However, TLH also comes with risks and limitations, including the wash sale rule, ossification, and the impact of market downturns.\n",
            "\n",
            "The study examines TLH benefits across different investor profiles and market scenarios, finding that higher-net-worth investors benefit more from TLH, with optimal behaviors significantly impacting expected TLH alpha. A case study illustrates the potential value and variance of TLH alpha for a mass-affluent investor, emphasizing the importance of evaluating TLH benefit from the perspective of the entire portfolio and setting reasonable expectations.\n",
            "\n",
            "The article highlights the methodology used to construct a synthetic U.S. equity index and the TLH algorithm applied to it. Machine learning techniques like XGBoost regression and SHAP analysis are used to quantify the value of TLH and its primary drivers.\n",
            "\n",
            "Investors should be aware of the risks associated with TLH, such as potential higher costs, portfolio tracking errors, and unintended tax consequences, and should consult a tax advisor before proceeding.\n"
          ]
        }
      ]
    },
    {
      "cell_type": "code",
      "source": [
        "claude_prompt = PromptTemplate(\n",
        "    input_variables=[\"document\"],\n",
        "    template=\"\"\"Write a summary for a minimum of 5 bullets for the following document:\n",
        "\n",
        "    {document}\n",
        "    Summary:\n",
        "    \"\"\",\n",
        ")\n",
        "\n",
        "llm_chain = LLMChain(llm=model_claude, prompt=claude_prompt)\n",
        "claude_stuff_chain = StuffDocumentsChain(\n",
        "    llm_chain=llm_chain,\n",
        "    document_variable_name=\"document\",\n",
        ")\n",
        "\n",
        "claude_summary = claude_stuff_chain.run(pages[0:16])\n",
        "print(claude_summary)"
      ],
      "metadata": {
        "colab": {
          "base_uri": "https://localhost:8080/",
          "height": 339
        },
        "id": "U9WGTXQd8LI-",
        "outputId": "a3cca356-3e37-4ca7-edbe-d7b0a0106148"
      },
      "execution_count": null,
      "outputs": [
        {
          "output_type": "error",
          "ename": "InternalServerError",
          "evalue": "Error code: 529 - {'type': 'error', 'error': {'type': 'overloaded_error', 'message': 'Overloaded'}}",
          "traceback": [
            "\u001b[0;31m---------------------------------------------------------------------------\u001b[0m",
            "\u001b[0;31mInternalServerError\u001b[0m                       Traceback (most recent call last)",
            "\u001b[0;32m<ipython-input-68-25b3264dfc70>\u001b[0m in \u001b[0;36m<cell line: 0>\u001b[0;34m()\u001b[0m\n\u001b[1;32m     14\u001b[0m )\n\u001b[1;32m     15\u001b[0m \u001b[0;34m\u001b[0m\u001b[0m\n\u001b[0;32m---> 16\u001b[0;31m \u001b[0mclaude_summary\u001b[0m \u001b[0;34m=\u001b[0m \u001b[0mclaude_stuff_chain\u001b[0m\u001b[0;34m.\u001b[0m\u001b[0mrun\u001b[0m\u001b[0;34m(\u001b[0m\u001b[0mpages\u001b[0m\u001b[0;34m[\u001b[0m\u001b[0;36m0\u001b[0m\u001b[0;34m:\u001b[0m\u001b[0;36m16\u001b[0m\u001b[0;34m]\u001b[0m\u001b[0;34m)\u001b[0m\u001b[0;34m\u001b[0m\u001b[0;34m\u001b[0m\u001b[0m\n\u001b[0m\u001b[1;32m     17\u001b[0m \u001b[0mprint\u001b[0m\u001b[0;34m(\u001b[0m\u001b[0mclaude_summary\u001b[0m\u001b[0;34m)\u001b[0m\u001b[0;34m\u001b[0m\u001b[0;34m\u001b[0m\u001b[0m\n",
            "\u001b[0;32m/usr/local/lib/python3.11/dist-packages/langchain_core/_api/deprecation.py\u001b[0m in \u001b[0;36mwarning_emitting_wrapper\u001b[0;34m(*args, **kwargs)\u001b[0m\n\u001b[1;32m    179\u001b[0m                 \u001b[0mwarned\u001b[0m \u001b[0;34m=\u001b[0m \u001b[0;32mTrue\u001b[0m\u001b[0;34m\u001b[0m\u001b[0;34m\u001b[0m\u001b[0m\n\u001b[1;32m    180\u001b[0m                 \u001b[0memit_warning\u001b[0m\u001b[0;34m(\u001b[0m\u001b[0;34m)\u001b[0m\u001b[0;34m\u001b[0m\u001b[0;34m\u001b[0m\u001b[0m\n\u001b[0;32m--> 181\u001b[0;31m             \u001b[0;32mreturn\u001b[0m \u001b[0mwrapped\u001b[0m\u001b[0;34m(\u001b[0m\u001b[0;34m*\u001b[0m\u001b[0margs\u001b[0m\u001b[0;34m,\u001b[0m \u001b[0;34m**\u001b[0m\u001b[0mkwargs\u001b[0m\u001b[0;34m)\u001b[0m\u001b[0;34m\u001b[0m\u001b[0;34m\u001b[0m\u001b[0m\n\u001b[0m\u001b[1;32m    182\u001b[0m \u001b[0;34m\u001b[0m\u001b[0m\n\u001b[1;32m    183\u001b[0m         \u001b[0;32masync\u001b[0m \u001b[0;32mdef\u001b[0m \u001b[0mawarning_emitting_wrapper\u001b[0m\u001b[0;34m(\u001b[0m\u001b[0;34m*\u001b[0m\u001b[0margs\u001b[0m\u001b[0;34m:\u001b[0m \u001b[0mAny\u001b[0m\u001b[0;34m,\u001b[0m \u001b[0;34m**\u001b[0m\u001b[0mkwargs\u001b[0m\u001b[0;34m:\u001b[0m \u001b[0mAny\u001b[0m\u001b[0;34m)\u001b[0m \u001b[0;34m->\u001b[0m \u001b[0mAny\u001b[0m\u001b[0;34m:\u001b[0m\u001b[0;34m\u001b[0m\u001b[0;34m\u001b[0m\u001b[0m\n",
            "\u001b[0;32m/usr/local/lib/python3.11/dist-packages/langchain/chains/base.py\u001b[0m in \u001b[0;36mrun\u001b[0;34m(self, callbacks, tags, metadata, *args, **kwargs)\u001b[0m\n\u001b[1;32m    604\u001b[0m             \u001b[0;32mif\u001b[0m \u001b[0mlen\u001b[0m\u001b[0;34m(\u001b[0m\u001b[0margs\u001b[0m\u001b[0;34m)\u001b[0m \u001b[0;34m!=\u001b[0m \u001b[0;36m1\u001b[0m\u001b[0;34m:\u001b[0m\u001b[0;34m\u001b[0m\u001b[0;34m\u001b[0m\u001b[0m\n\u001b[1;32m    605\u001b[0m                 \u001b[0;32mraise\u001b[0m \u001b[0mValueError\u001b[0m\u001b[0;34m(\u001b[0m\u001b[0;34m\"`run` supports only one positional argument.\"\u001b[0m\u001b[0;34m)\u001b[0m\u001b[0;34m\u001b[0m\u001b[0;34m\u001b[0m\u001b[0m\n\u001b[0;32m--> 606\u001b[0;31m             return self(args[0], callbacks=callbacks, tags=tags, metadata=metadata)[\n\u001b[0m\u001b[1;32m    607\u001b[0m                 \u001b[0m_output_key\u001b[0m\u001b[0;34m\u001b[0m\u001b[0;34m\u001b[0m\u001b[0m\n\u001b[1;32m    608\u001b[0m             ]\n",
            "\u001b[0;32m/usr/local/lib/python3.11/dist-packages/langchain_core/_api/deprecation.py\u001b[0m in \u001b[0;36mwarning_emitting_wrapper\u001b[0;34m(*args, **kwargs)\u001b[0m\n\u001b[1;32m    179\u001b[0m                 \u001b[0mwarned\u001b[0m \u001b[0;34m=\u001b[0m \u001b[0;32mTrue\u001b[0m\u001b[0;34m\u001b[0m\u001b[0;34m\u001b[0m\u001b[0m\n\u001b[1;32m    180\u001b[0m                 \u001b[0memit_warning\u001b[0m\u001b[0;34m(\u001b[0m\u001b[0;34m)\u001b[0m\u001b[0;34m\u001b[0m\u001b[0;34m\u001b[0m\u001b[0m\n\u001b[0;32m--> 181\u001b[0;31m             \u001b[0;32mreturn\u001b[0m \u001b[0mwrapped\u001b[0m\u001b[0;34m(\u001b[0m\u001b[0;34m*\u001b[0m\u001b[0margs\u001b[0m\u001b[0;34m,\u001b[0m \u001b[0;34m**\u001b[0m\u001b[0mkwargs\u001b[0m\u001b[0;34m)\u001b[0m\u001b[0;34m\u001b[0m\u001b[0;34m\u001b[0m\u001b[0m\n\u001b[0m\u001b[1;32m    182\u001b[0m \u001b[0;34m\u001b[0m\u001b[0m\n\u001b[1;32m    183\u001b[0m         \u001b[0;32masync\u001b[0m \u001b[0;32mdef\u001b[0m \u001b[0mawarning_emitting_wrapper\u001b[0m\u001b[0;34m(\u001b[0m\u001b[0;34m*\u001b[0m\u001b[0margs\u001b[0m\u001b[0;34m:\u001b[0m \u001b[0mAny\u001b[0m\u001b[0;34m,\u001b[0m \u001b[0;34m**\u001b[0m\u001b[0mkwargs\u001b[0m\u001b[0;34m:\u001b[0m \u001b[0mAny\u001b[0m\u001b[0;34m)\u001b[0m \u001b[0;34m->\u001b[0m \u001b[0mAny\u001b[0m\u001b[0;34m:\u001b[0m\u001b[0;34m\u001b[0m\u001b[0;34m\u001b[0m\u001b[0m\n",
            "\u001b[0;32m/usr/local/lib/python3.11/dist-packages/langchain/chains/base.py\u001b[0m in \u001b[0;36m__call__\u001b[0;34m(self, inputs, return_only_outputs, callbacks, tags, metadata, run_name, include_run_info)\u001b[0m\n\u001b[1;32m    387\u001b[0m         }\n\u001b[1;32m    388\u001b[0m \u001b[0;34m\u001b[0m\u001b[0m\n\u001b[0;32m--> 389\u001b[0;31m         return self.invoke(\n\u001b[0m\u001b[1;32m    390\u001b[0m             \u001b[0minputs\u001b[0m\u001b[0;34m,\u001b[0m\u001b[0;34m\u001b[0m\u001b[0;34m\u001b[0m\u001b[0m\n\u001b[1;32m    391\u001b[0m             \u001b[0mcast\u001b[0m\u001b[0;34m(\u001b[0m\u001b[0mRunnableConfig\u001b[0m\u001b[0;34m,\u001b[0m \u001b[0;34m{\u001b[0m\u001b[0mk\u001b[0m\u001b[0;34m:\u001b[0m \u001b[0mv\u001b[0m \u001b[0;32mfor\u001b[0m \u001b[0mk\u001b[0m\u001b[0;34m,\u001b[0m \u001b[0mv\u001b[0m \u001b[0;32min\u001b[0m \u001b[0mconfig\u001b[0m\u001b[0;34m.\u001b[0m\u001b[0mitems\u001b[0m\u001b[0;34m(\u001b[0m\u001b[0;34m)\u001b[0m \u001b[0;32mif\u001b[0m \u001b[0mv\u001b[0m \u001b[0;32mis\u001b[0m \u001b[0;32mnot\u001b[0m \u001b[0;32mNone\u001b[0m\u001b[0;34m}\u001b[0m\u001b[0;34m)\u001b[0m\u001b[0;34m,\u001b[0m\u001b[0;34m\u001b[0m\u001b[0;34m\u001b[0m\u001b[0m\n",
            "\u001b[0;32m/usr/local/lib/python3.11/dist-packages/langchain/chains/base.py\u001b[0m in \u001b[0;36minvoke\u001b[0;34m(self, input, config, **kwargs)\u001b[0m\n\u001b[1;32m    168\u001b[0m         \u001b[0;32mexcept\u001b[0m \u001b[0mBaseException\u001b[0m \u001b[0;32mas\u001b[0m \u001b[0me\u001b[0m\u001b[0;34m:\u001b[0m\u001b[0;34m\u001b[0m\u001b[0;34m\u001b[0m\u001b[0m\n\u001b[1;32m    169\u001b[0m             \u001b[0mrun_manager\u001b[0m\u001b[0;34m.\u001b[0m\u001b[0mon_chain_error\u001b[0m\u001b[0;34m(\u001b[0m\u001b[0me\u001b[0m\u001b[0;34m)\u001b[0m\u001b[0;34m\u001b[0m\u001b[0;34m\u001b[0m\u001b[0m\n\u001b[0;32m--> 170\u001b[0;31m             \u001b[0;32mraise\u001b[0m \u001b[0me\u001b[0m\u001b[0;34m\u001b[0m\u001b[0;34m\u001b[0m\u001b[0m\n\u001b[0m\u001b[1;32m    171\u001b[0m         \u001b[0mrun_manager\u001b[0m\u001b[0;34m.\u001b[0m\u001b[0mon_chain_end\u001b[0m\u001b[0;34m(\u001b[0m\u001b[0moutputs\u001b[0m\u001b[0;34m)\u001b[0m\u001b[0;34m\u001b[0m\u001b[0;34m\u001b[0m\u001b[0m\n\u001b[1;32m    172\u001b[0m \u001b[0;34m\u001b[0m\u001b[0m\n",
            "\u001b[0;32m/usr/local/lib/python3.11/dist-packages/langchain/chains/base.py\u001b[0m in \u001b[0;36minvoke\u001b[0;34m(self, input, config, **kwargs)\u001b[0m\n\u001b[1;32m    158\u001b[0m             \u001b[0mself\u001b[0m\u001b[0;34m.\u001b[0m\u001b[0m_validate_inputs\u001b[0m\u001b[0;34m(\u001b[0m\u001b[0minputs\u001b[0m\u001b[0;34m)\u001b[0m\u001b[0;34m\u001b[0m\u001b[0;34m\u001b[0m\u001b[0m\n\u001b[1;32m    159\u001b[0m             outputs = (\n\u001b[0;32m--> 160\u001b[0;31m                 \u001b[0mself\u001b[0m\u001b[0;34m.\u001b[0m\u001b[0m_call\u001b[0m\u001b[0;34m(\u001b[0m\u001b[0minputs\u001b[0m\u001b[0;34m,\u001b[0m \u001b[0mrun_manager\u001b[0m\u001b[0;34m=\u001b[0m\u001b[0mrun_manager\u001b[0m\u001b[0;34m)\u001b[0m\u001b[0;34m\u001b[0m\u001b[0;34m\u001b[0m\u001b[0m\n\u001b[0m\u001b[1;32m    161\u001b[0m                 \u001b[0;32mif\u001b[0m \u001b[0mnew_arg_supported\u001b[0m\u001b[0;34m\u001b[0m\u001b[0;34m\u001b[0m\u001b[0m\n\u001b[1;32m    162\u001b[0m                 \u001b[0;32melse\u001b[0m \u001b[0mself\u001b[0m\u001b[0;34m.\u001b[0m\u001b[0m_call\u001b[0m\u001b[0;34m(\u001b[0m\u001b[0minputs\u001b[0m\u001b[0;34m)\u001b[0m\u001b[0;34m\u001b[0m\u001b[0;34m\u001b[0m\u001b[0m\n",
            "\u001b[0;32m/usr/local/lib/python3.11/dist-packages/langchain/chains/combine_documents/base.py\u001b[0m in \u001b[0;36m_call\u001b[0;34m(self, inputs, run_manager)\u001b[0m\n\u001b[1;32m    136\u001b[0m         \u001b[0;31m# Other keys are assumed to be needed for LLM prediction\u001b[0m\u001b[0;34m\u001b[0m\u001b[0;34m\u001b[0m\u001b[0m\n\u001b[1;32m    137\u001b[0m         \u001b[0mother_keys\u001b[0m \u001b[0;34m=\u001b[0m \u001b[0;34m{\u001b[0m\u001b[0mk\u001b[0m\u001b[0;34m:\u001b[0m \u001b[0mv\u001b[0m \u001b[0;32mfor\u001b[0m \u001b[0mk\u001b[0m\u001b[0;34m,\u001b[0m \u001b[0mv\u001b[0m \u001b[0;32min\u001b[0m \u001b[0minputs\u001b[0m\u001b[0;34m.\u001b[0m\u001b[0mitems\u001b[0m\u001b[0;34m(\u001b[0m\u001b[0;34m)\u001b[0m \u001b[0;32mif\u001b[0m \u001b[0mk\u001b[0m \u001b[0;34m!=\u001b[0m \u001b[0mself\u001b[0m\u001b[0;34m.\u001b[0m\u001b[0minput_key\u001b[0m\u001b[0;34m}\u001b[0m\u001b[0;34m\u001b[0m\u001b[0;34m\u001b[0m\u001b[0m\n\u001b[0;32m--> 138\u001b[0;31m         output, extra_return_dict = self.combine_docs(\n\u001b[0m\u001b[1;32m    139\u001b[0m             \u001b[0mdocs\u001b[0m\u001b[0;34m,\u001b[0m \u001b[0mcallbacks\u001b[0m\u001b[0;34m=\u001b[0m\u001b[0m_run_manager\u001b[0m\u001b[0;34m.\u001b[0m\u001b[0mget_child\u001b[0m\u001b[0;34m(\u001b[0m\u001b[0;34m)\u001b[0m\u001b[0;34m,\u001b[0m \u001b[0;34m**\u001b[0m\u001b[0mother_keys\u001b[0m\u001b[0;34m\u001b[0m\u001b[0;34m\u001b[0m\u001b[0m\n\u001b[1;32m    140\u001b[0m         )\n",
            "\u001b[0;32m/usr/local/lib/python3.11/dist-packages/langchain/chains/combine_documents/stuff.py\u001b[0m in \u001b[0;36mcombine_docs\u001b[0;34m(self, docs, callbacks, **kwargs)\u001b[0m\n\u001b[1;32m    257\u001b[0m         \u001b[0minputs\u001b[0m \u001b[0;34m=\u001b[0m \u001b[0mself\u001b[0m\u001b[0;34m.\u001b[0m\u001b[0m_get_inputs\u001b[0m\u001b[0;34m(\u001b[0m\u001b[0mdocs\u001b[0m\u001b[0;34m,\u001b[0m \u001b[0;34m**\u001b[0m\u001b[0mkwargs\u001b[0m\u001b[0;34m)\u001b[0m\u001b[0;34m\u001b[0m\u001b[0;34m\u001b[0m\u001b[0m\n\u001b[1;32m    258\u001b[0m         \u001b[0;31m# Call predict on the LLM.\u001b[0m\u001b[0;34m\u001b[0m\u001b[0;34m\u001b[0m\u001b[0m\n\u001b[0;32m--> 259\u001b[0;31m         \u001b[0;32mreturn\u001b[0m \u001b[0mself\u001b[0m\u001b[0;34m.\u001b[0m\u001b[0mllm_chain\u001b[0m\u001b[0;34m.\u001b[0m\u001b[0mpredict\u001b[0m\u001b[0;34m(\u001b[0m\u001b[0mcallbacks\u001b[0m\u001b[0;34m=\u001b[0m\u001b[0mcallbacks\u001b[0m\u001b[0;34m,\u001b[0m \u001b[0;34m**\u001b[0m\u001b[0minputs\u001b[0m\u001b[0;34m)\u001b[0m\u001b[0;34m,\u001b[0m \u001b[0;34m{\u001b[0m\u001b[0;34m}\u001b[0m\u001b[0;34m\u001b[0m\u001b[0;34m\u001b[0m\u001b[0m\n\u001b[0m\u001b[1;32m    260\u001b[0m \u001b[0;34m\u001b[0m\u001b[0m\n\u001b[1;32m    261\u001b[0m     async def acombine_docs(\n",
            "\u001b[0;32m/usr/local/lib/python3.11/dist-packages/langchain/chains/llm.py\u001b[0m in \u001b[0;36mpredict\u001b[0;34m(self, callbacks, **kwargs)\u001b[0m\n\u001b[1;32m    316\u001b[0m                 \u001b[0mcompletion\u001b[0m \u001b[0;34m=\u001b[0m \u001b[0mllm\u001b[0m\u001b[0;34m.\u001b[0m\u001b[0mpredict\u001b[0m\u001b[0;34m(\u001b[0m\u001b[0madjective\u001b[0m\u001b[0;34m=\u001b[0m\u001b[0;34m\"funny\"\u001b[0m\u001b[0;34m)\u001b[0m\u001b[0;34m\u001b[0m\u001b[0;34m\u001b[0m\u001b[0m\n\u001b[1;32m    317\u001b[0m         \"\"\"\n\u001b[0;32m--> 318\u001b[0;31m         \u001b[0;32mreturn\u001b[0m \u001b[0mself\u001b[0m\u001b[0;34m(\u001b[0m\u001b[0mkwargs\u001b[0m\u001b[0;34m,\u001b[0m \u001b[0mcallbacks\u001b[0m\u001b[0;34m=\u001b[0m\u001b[0mcallbacks\u001b[0m\u001b[0;34m)\u001b[0m\u001b[0;34m[\u001b[0m\u001b[0mself\u001b[0m\u001b[0;34m.\u001b[0m\u001b[0moutput_key\u001b[0m\u001b[0;34m]\u001b[0m\u001b[0;34m\u001b[0m\u001b[0;34m\u001b[0m\u001b[0m\n\u001b[0m\u001b[1;32m    319\u001b[0m \u001b[0;34m\u001b[0m\u001b[0m\n\u001b[1;32m    320\u001b[0m     \u001b[0;32masync\u001b[0m \u001b[0;32mdef\u001b[0m \u001b[0mapredict\u001b[0m\u001b[0;34m(\u001b[0m\u001b[0mself\u001b[0m\u001b[0;34m,\u001b[0m \u001b[0mcallbacks\u001b[0m\u001b[0;34m:\u001b[0m \u001b[0mCallbacks\u001b[0m \u001b[0;34m=\u001b[0m \u001b[0;32mNone\u001b[0m\u001b[0;34m,\u001b[0m \u001b[0;34m**\u001b[0m\u001b[0mkwargs\u001b[0m\u001b[0;34m:\u001b[0m \u001b[0mAny\u001b[0m\u001b[0;34m)\u001b[0m \u001b[0;34m->\u001b[0m \u001b[0mstr\u001b[0m\u001b[0;34m:\u001b[0m\u001b[0;34m\u001b[0m\u001b[0;34m\u001b[0m\u001b[0m\n",
            "\u001b[0;32m/usr/local/lib/python3.11/dist-packages/langchain_core/_api/deprecation.py\u001b[0m in \u001b[0;36mwarning_emitting_wrapper\u001b[0;34m(*args, **kwargs)\u001b[0m\n\u001b[1;32m    179\u001b[0m                 \u001b[0mwarned\u001b[0m \u001b[0;34m=\u001b[0m \u001b[0;32mTrue\u001b[0m\u001b[0;34m\u001b[0m\u001b[0;34m\u001b[0m\u001b[0m\n\u001b[1;32m    180\u001b[0m                 \u001b[0memit_warning\u001b[0m\u001b[0;34m(\u001b[0m\u001b[0;34m)\u001b[0m\u001b[0;34m\u001b[0m\u001b[0;34m\u001b[0m\u001b[0m\n\u001b[0;32m--> 181\u001b[0;31m             \u001b[0;32mreturn\u001b[0m \u001b[0mwrapped\u001b[0m\u001b[0;34m(\u001b[0m\u001b[0;34m*\u001b[0m\u001b[0margs\u001b[0m\u001b[0;34m,\u001b[0m \u001b[0;34m**\u001b[0m\u001b[0mkwargs\u001b[0m\u001b[0;34m)\u001b[0m\u001b[0;34m\u001b[0m\u001b[0;34m\u001b[0m\u001b[0m\n\u001b[0m\u001b[1;32m    182\u001b[0m \u001b[0;34m\u001b[0m\u001b[0m\n\u001b[1;32m    183\u001b[0m         \u001b[0;32masync\u001b[0m \u001b[0;32mdef\u001b[0m \u001b[0mawarning_emitting_wrapper\u001b[0m\u001b[0;34m(\u001b[0m\u001b[0;34m*\u001b[0m\u001b[0margs\u001b[0m\u001b[0;34m:\u001b[0m \u001b[0mAny\u001b[0m\u001b[0;34m,\u001b[0m \u001b[0;34m**\u001b[0m\u001b[0mkwargs\u001b[0m\u001b[0;34m:\u001b[0m \u001b[0mAny\u001b[0m\u001b[0;34m)\u001b[0m \u001b[0;34m->\u001b[0m \u001b[0mAny\u001b[0m\u001b[0;34m:\u001b[0m\u001b[0;34m\u001b[0m\u001b[0;34m\u001b[0m\u001b[0m\n",
            "\u001b[0;32m/usr/local/lib/python3.11/dist-packages/langchain/chains/base.py\u001b[0m in \u001b[0;36m__call__\u001b[0;34m(self, inputs, return_only_outputs, callbacks, tags, metadata, run_name, include_run_info)\u001b[0m\n\u001b[1;32m    387\u001b[0m         }\n\u001b[1;32m    388\u001b[0m \u001b[0;34m\u001b[0m\u001b[0m\n\u001b[0;32m--> 389\u001b[0;31m         return self.invoke(\n\u001b[0m\u001b[1;32m    390\u001b[0m             \u001b[0minputs\u001b[0m\u001b[0;34m,\u001b[0m\u001b[0;34m\u001b[0m\u001b[0;34m\u001b[0m\u001b[0m\n\u001b[1;32m    391\u001b[0m             \u001b[0mcast\u001b[0m\u001b[0;34m(\u001b[0m\u001b[0mRunnableConfig\u001b[0m\u001b[0;34m,\u001b[0m \u001b[0;34m{\u001b[0m\u001b[0mk\u001b[0m\u001b[0;34m:\u001b[0m \u001b[0mv\u001b[0m \u001b[0;32mfor\u001b[0m \u001b[0mk\u001b[0m\u001b[0;34m,\u001b[0m \u001b[0mv\u001b[0m \u001b[0;32min\u001b[0m \u001b[0mconfig\u001b[0m\u001b[0;34m.\u001b[0m\u001b[0mitems\u001b[0m\u001b[0;34m(\u001b[0m\u001b[0;34m)\u001b[0m \u001b[0;32mif\u001b[0m \u001b[0mv\u001b[0m \u001b[0;32mis\u001b[0m \u001b[0;32mnot\u001b[0m \u001b[0;32mNone\u001b[0m\u001b[0;34m}\u001b[0m\u001b[0;34m)\u001b[0m\u001b[0;34m,\u001b[0m\u001b[0;34m\u001b[0m\u001b[0;34m\u001b[0m\u001b[0m\n",
            "\u001b[0;32m/usr/local/lib/python3.11/dist-packages/langchain/chains/base.py\u001b[0m in \u001b[0;36minvoke\u001b[0;34m(self, input, config, **kwargs)\u001b[0m\n\u001b[1;32m    168\u001b[0m         \u001b[0;32mexcept\u001b[0m \u001b[0mBaseException\u001b[0m \u001b[0;32mas\u001b[0m \u001b[0me\u001b[0m\u001b[0;34m:\u001b[0m\u001b[0;34m\u001b[0m\u001b[0;34m\u001b[0m\u001b[0m\n\u001b[1;32m    169\u001b[0m             \u001b[0mrun_manager\u001b[0m\u001b[0;34m.\u001b[0m\u001b[0mon_chain_error\u001b[0m\u001b[0;34m(\u001b[0m\u001b[0me\u001b[0m\u001b[0;34m)\u001b[0m\u001b[0;34m\u001b[0m\u001b[0;34m\u001b[0m\u001b[0m\n\u001b[0;32m--> 170\u001b[0;31m             \u001b[0;32mraise\u001b[0m \u001b[0me\u001b[0m\u001b[0;34m\u001b[0m\u001b[0;34m\u001b[0m\u001b[0m\n\u001b[0m\u001b[1;32m    171\u001b[0m         \u001b[0mrun_manager\u001b[0m\u001b[0;34m.\u001b[0m\u001b[0mon_chain_end\u001b[0m\u001b[0;34m(\u001b[0m\u001b[0moutputs\u001b[0m\u001b[0;34m)\u001b[0m\u001b[0;34m\u001b[0m\u001b[0;34m\u001b[0m\u001b[0m\n\u001b[1;32m    172\u001b[0m \u001b[0;34m\u001b[0m\u001b[0m\n",
            "\u001b[0;32m/usr/local/lib/python3.11/dist-packages/langchain/chains/base.py\u001b[0m in \u001b[0;36minvoke\u001b[0;34m(self, input, config, **kwargs)\u001b[0m\n\u001b[1;32m    158\u001b[0m             \u001b[0mself\u001b[0m\u001b[0;34m.\u001b[0m\u001b[0m_validate_inputs\u001b[0m\u001b[0;34m(\u001b[0m\u001b[0minputs\u001b[0m\u001b[0;34m)\u001b[0m\u001b[0;34m\u001b[0m\u001b[0;34m\u001b[0m\u001b[0m\n\u001b[1;32m    159\u001b[0m             outputs = (\n\u001b[0;32m--> 160\u001b[0;31m                 \u001b[0mself\u001b[0m\u001b[0;34m.\u001b[0m\u001b[0m_call\u001b[0m\u001b[0;34m(\u001b[0m\u001b[0minputs\u001b[0m\u001b[0;34m,\u001b[0m \u001b[0mrun_manager\u001b[0m\u001b[0;34m=\u001b[0m\u001b[0mrun_manager\u001b[0m\u001b[0;34m)\u001b[0m\u001b[0;34m\u001b[0m\u001b[0;34m\u001b[0m\u001b[0m\n\u001b[0m\u001b[1;32m    161\u001b[0m                 \u001b[0;32mif\u001b[0m \u001b[0mnew_arg_supported\u001b[0m\u001b[0;34m\u001b[0m\u001b[0;34m\u001b[0m\u001b[0m\n\u001b[1;32m    162\u001b[0m                 \u001b[0;32melse\u001b[0m \u001b[0mself\u001b[0m\u001b[0;34m.\u001b[0m\u001b[0m_call\u001b[0m\u001b[0;34m(\u001b[0m\u001b[0minputs\u001b[0m\u001b[0;34m)\u001b[0m\u001b[0;34m\u001b[0m\u001b[0;34m\u001b[0m\u001b[0m\n",
            "\u001b[0;32m/usr/local/lib/python3.11/dist-packages/langchain/chains/llm.py\u001b[0m in \u001b[0;36m_call\u001b[0;34m(self, inputs, run_manager)\u001b[0m\n\u001b[1;32m    124\u001b[0m         \u001b[0mrun_manager\u001b[0m\u001b[0;34m:\u001b[0m \u001b[0mOptional\u001b[0m\u001b[0;34m[\u001b[0m\u001b[0mCallbackManagerForChainRun\u001b[0m\u001b[0;34m]\u001b[0m \u001b[0;34m=\u001b[0m \u001b[0;32mNone\u001b[0m\u001b[0;34m,\u001b[0m\u001b[0;34m\u001b[0m\u001b[0;34m\u001b[0m\u001b[0m\n\u001b[1;32m    125\u001b[0m     ) -> Dict[str, str]:\n\u001b[0;32m--> 126\u001b[0;31m         \u001b[0mresponse\u001b[0m \u001b[0;34m=\u001b[0m \u001b[0mself\u001b[0m\u001b[0;34m.\u001b[0m\u001b[0mgenerate\u001b[0m\u001b[0;34m(\u001b[0m\u001b[0;34m[\u001b[0m\u001b[0minputs\u001b[0m\u001b[0;34m]\u001b[0m\u001b[0;34m,\u001b[0m \u001b[0mrun_manager\u001b[0m\u001b[0;34m=\u001b[0m\u001b[0mrun_manager\u001b[0m\u001b[0;34m)\u001b[0m\u001b[0;34m\u001b[0m\u001b[0;34m\u001b[0m\u001b[0m\n\u001b[0m\u001b[1;32m    127\u001b[0m         \u001b[0;32mreturn\u001b[0m \u001b[0mself\u001b[0m\u001b[0;34m.\u001b[0m\u001b[0mcreate_outputs\u001b[0m\u001b[0;34m(\u001b[0m\u001b[0mresponse\u001b[0m\u001b[0;34m)\u001b[0m\u001b[0;34m[\u001b[0m\u001b[0;36m0\u001b[0m\u001b[0;34m]\u001b[0m\u001b[0;34m\u001b[0m\u001b[0;34m\u001b[0m\u001b[0m\n\u001b[1;32m    128\u001b[0m \u001b[0;34m\u001b[0m\u001b[0m\n",
            "\u001b[0;32m/usr/local/lib/python3.11/dist-packages/langchain/chains/llm.py\u001b[0m in \u001b[0;36mgenerate\u001b[0;34m(self, input_list, run_manager)\u001b[0m\n\u001b[1;32m    136\u001b[0m         \u001b[0mcallbacks\u001b[0m \u001b[0;34m=\u001b[0m \u001b[0mrun_manager\u001b[0m\u001b[0;34m.\u001b[0m\u001b[0mget_child\u001b[0m\u001b[0;34m(\u001b[0m\u001b[0;34m)\u001b[0m \u001b[0;32mif\u001b[0m \u001b[0mrun_manager\u001b[0m \u001b[0;32melse\u001b[0m \u001b[0;32mNone\u001b[0m\u001b[0;34m\u001b[0m\u001b[0;34m\u001b[0m\u001b[0m\n\u001b[1;32m    137\u001b[0m         \u001b[0;32mif\u001b[0m \u001b[0misinstance\u001b[0m\u001b[0;34m(\u001b[0m\u001b[0mself\u001b[0m\u001b[0;34m.\u001b[0m\u001b[0mllm\u001b[0m\u001b[0;34m,\u001b[0m \u001b[0mBaseLanguageModel\u001b[0m\u001b[0;34m)\u001b[0m\u001b[0;34m:\u001b[0m\u001b[0;34m\u001b[0m\u001b[0;34m\u001b[0m\u001b[0m\n\u001b[0;32m--> 138\u001b[0;31m             return self.llm.generate_prompt(\n\u001b[0m\u001b[1;32m    139\u001b[0m                 \u001b[0mprompts\u001b[0m\u001b[0;34m,\u001b[0m\u001b[0;34m\u001b[0m\u001b[0;34m\u001b[0m\u001b[0m\n\u001b[1;32m    140\u001b[0m                 \u001b[0mstop\u001b[0m\u001b[0;34m,\u001b[0m\u001b[0;34m\u001b[0m\u001b[0;34m\u001b[0m\u001b[0m\n",
            "\u001b[0;32m/usr/local/lib/python3.11/dist-packages/langchain_core/language_models/chat_models.py\u001b[0m in \u001b[0;36mgenerate_prompt\u001b[0;34m(self, prompts, stop, callbacks, **kwargs)\u001b[0m\n\u001b[1;32m    858\u001b[0m     ) -> LLMResult:\n\u001b[1;32m    859\u001b[0m         \u001b[0mprompt_messages\u001b[0m \u001b[0;34m=\u001b[0m \u001b[0;34m[\u001b[0m\u001b[0mp\u001b[0m\u001b[0;34m.\u001b[0m\u001b[0mto_messages\u001b[0m\u001b[0;34m(\u001b[0m\u001b[0;34m)\u001b[0m \u001b[0;32mfor\u001b[0m \u001b[0mp\u001b[0m \u001b[0;32min\u001b[0m \u001b[0mprompts\u001b[0m\u001b[0;34m]\u001b[0m\u001b[0;34m\u001b[0m\u001b[0;34m\u001b[0m\u001b[0m\n\u001b[0;32m--> 860\u001b[0;31m         \u001b[0;32mreturn\u001b[0m \u001b[0mself\u001b[0m\u001b[0;34m.\u001b[0m\u001b[0mgenerate\u001b[0m\u001b[0;34m(\u001b[0m\u001b[0mprompt_messages\u001b[0m\u001b[0;34m,\u001b[0m \u001b[0mstop\u001b[0m\u001b[0;34m=\u001b[0m\u001b[0mstop\u001b[0m\u001b[0;34m,\u001b[0m \u001b[0mcallbacks\u001b[0m\u001b[0;34m=\u001b[0m\u001b[0mcallbacks\u001b[0m\u001b[0;34m,\u001b[0m \u001b[0;34m**\u001b[0m\u001b[0mkwargs\u001b[0m\u001b[0;34m)\u001b[0m\u001b[0;34m\u001b[0m\u001b[0;34m\u001b[0m\u001b[0m\n\u001b[0m\u001b[1;32m    861\u001b[0m \u001b[0;34m\u001b[0m\u001b[0m\n\u001b[1;32m    862\u001b[0m     async def agenerate_prompt(\n",
            "\u001b[0;32m/usr/local/lib/python3.11/dist-packages/langchain_core/language_models/chat_models.py\u001b[0m in \u001b[0;36mgenerate\u001b[0;34m(self, messages, stop, callbacks, tags, metadata, run_name, run_id, **kwargs)\u001b[0m\n\u001b[1;32m    688\u001b[0m             \u001b[0;32mtry\u001b[0m\u001b[0;34m:\u001b[0m\u001b[0;34m\u001b[0m\u001b[0;34m\u001b[0m\u001b[0m\n\u001b[1;32m    689\u001b[0m                 results.append(\n\u001b[0;32m--> 690\u001b[0;31m                     self._generate_with_cache(\n\u001b[0m\u001b[1;32m    691\u001b[0m                         \u001b[0mm\u001b[0m\u001b[0;34m,\u001b[0m\u001b[0;34m\u001b[0m\u001b[0;34m\u001b[0m\u001b[0m\n\u001b[1;32m    692\u001b[0m                         \u001b[0mstop\u001b[0m\u001b[0;34m=\u001b[0m\u001b[0mstop\u001b[0m\u001b[0;34m,\u001b[0m\u001b[0;34m\u001b[0m\u001b[0;34m\u001b[0m\u001b[0m\n",
            "\u001b[0;32m/usr/local/lib/python3.11/dist-packages/langchain_core/language_models/chat_models.py\u001b[0m in \u001b[0;36m_generate_with_cache\u001b[0;34m(self, messages, stop, run_manager, **kwargs)\u001b[0m\n\u001b[1;32m    923\u001b[0m         \u001b[0;32melse\u001b[0m\u001b[0;34m:\u001b[0m\u001b[0;34m\u001b[0m\u001b[0;34m\u001b[0m\u001b[0m\n\u001b[1;32m    924\u001b[0m             \u001b[0;32mif\u001b[0m \u001b[0minspect\u001b[0m\u001b[0;34m.\u001b[0m\u001b[0msignature\u001b[0m\u001b[0;34m(\u001b[0m\u001b[0mself\u001b[0m\u001b[0;34m.\u001b[0m\u001b[0m_generate\u001b[0m\u001b[0;34m)\u001b[0m\u001b[0;34m.\u001b[0m\u001b[0mparameters\u001b[0m\u001b[0;34m.\u001b[0m\u001b[0mget\u001b[0m\u001b[0;34m(\u001b[0m\u001b[0;34m\"run_manager\"\u001b[0m\u001b[0;34m)\u001b[0m\u001b[0;34m:\u001b[0m\u001b[0;34m\u001b[0m\u001b[0;34m\u001b[0m\u001b[0m\n\u001b[0;32m--> 925\u001b[0;31m                 result = self._generate(\n\u001b[0m\u001b[1;32m    926\u001b[0m                     \u001b[0mmessages\u001b[0m\u001b[0;34m,\u001b[0m \u001b[0mstop\u001b[0m\u001b[0;34m=\u001b[0m\u001b[0mstop\u001b[0m\u001b[0;34m,\u001b[0m \u001b[0mrun_manager\u001b[0m\u001b[0;34m=\u001b[0m\u001b[0mrun_manager\u001b[0m\u001b[0;34m,\u001b[0m \u001b[0;34m**\u001b[0m\u001b[0mkwargs\u001b[0m\u001b[0;34m\u001b[0m\u001b[0;34m\u001b[0m\u001b[0m\n\u001b[1;32m    927\u001b[0m                 )\n",
            "\u001b[0;32m/usr/local/lib/python3.11/dist-packages/langchain_anthropic/chat_models.py\u001b[0m in \u001b[0;36m_generate\u001b[0;34m(self, messages, stop, run_manager, **kwargs)\u001b[0m\n\u001b[1;32m    812\u001b[0m             \u001b[0;32mreturn\u001b[0m \u001b[0mgenerate_from_stream\u001b[0m\u001b[0;34m(\u001b[0m\u001b[0mstream_iter\u001b[0m\u001b[0;34m)\u001b[0m\u001b[0;34m\u001b[0m\u001b[0;34m\u001b[0m\u001b[0m\n\u001b[1;32m    813\u001b[0m         \u001b[0mpayload\u001b[0m \u001b[0;34m=\u001b[0m \u001b[0mself\u001b[0m\u001b[0;34m.\u001b[0m\u001b[0m_get_request_payload\u001b[0m\u001b[0;34m(\u001b[0m\u001b[0mmessages\u001b[0m\u001b[0;34m,\u001b[0m \u001b[0mstop\u001b[0m\u001b[0;34m=\u001b[0m\u001b[0mstop\u001b[0m\u001b[0;34m,\u001b[0m \u001b[0;34m**\u001b[0m\u001b[0mkwargs\u001b[0m\u001b[0;34m)\u001b[0m\u001b[0;34m\u001b[0m\u001b[0;34m\u001b[0m\u001b[0m\n\u001b[0;32m--> 814\u001b[0;31m         \u001b[0mdata\u001b[0m \u001b[0;34m=\u001b[0m \u001b[0mself\u001b[0m\u001b[0;34m.\u001b[0m\u001b[0m_client\u001b[0m\u001b[0;34m.\u001b[0m\u001b[0mmessages\u001b[0m\u001b[0;34m.\u001b[0m\u001b[0mcreate\u001b[0m\u001b[0;34m(\u001b[0m\u001b[0;34m**\u001b[0m\u001b[0mpayload\u001b[0m\u001b[0;34m)\u001b[0m\u001b[0;34m\u001b[0m\u001b[0;34m\u001b[0m\u001b[0m\n\u001b[0m\u001b[1;32m    815\u001b[0m         \u001b[0;32mreturn\u001b[0m \u001b[0mself\u001b[0m\u001b[0;34m.\u001b[0m\u001b[0m_format_output\u001b[0m\u001b[0;34m(\u001b[0m\u001b[0mdata\u001b[0m\u001b[0;34m,\u001b[0m \u001b[0;34m**\u001b[0m\u001b[0mkwargs\u001b[0m\u001b[0;34m)\u001b[0m\u001b[0;34m\u001b[0m\u001b[0;34m\u001b[0m\u001b[0m\n\u001b[1;32m    816\u001b[0m \u001b[0;34m\u001b[0m\u001b[0m\n",
            "\u001b[0;32m/usr/local/lib/python3.11/dist-packages/anthropic/_utils/_utils.py\u001b[0m in \u001b[0;36mwrapper\u001b[0;34m(*args, **kwargs)\u001b[0m\n\u001b[1;32m    273\u001b[0m                         \u001b[0mmsg\u001b[0m \u001b[0;34m=\u001b[0m \u001b[0;34mf\"Missing required argument: {quote(missing[0])}\"\u001b[0m\u001b[0;34m\u001b[0m\u001b[0;34m\u001b[0m\u001b[0m\n\u001b[1;32m    274\u001b[0m                 \u001b[0;32mraise\u001b[0m \u001b[0mTypeError\u001b[0m\u001b[0;34m(\u001b[0m\u001b[0mmsg\u001b[0m\u001b[0;34m)\u001b[0m\u001b[0;34m\u001b[0m\u001b[0;34m\u001b[0m\u001b[0m\n\u001b[0;32m--> 275\u001b[0;31m             \u001b[0;32mreturn\u001b[0m \u001b[0mfunc\u001b[0m\u001b[0;34m(\u001b[0m\u001b[0;34m*\u001b[0m\u001b[0margs\u001b[0m\u001b[0;34m,\u001b[0m \u001b[0;34m**\u001b[0m\u001b[0mkwargs\u001b[0m\u001b[0;34m)\u001b[0m\u001b[0;34m\u001b[0m\u001b[0;34m\u001b[0m\u001b[0m\n\u001b[0m\u001b[1;32m    276\u001b[0m \u001b[0;34m\u001b[0m\u001b[0m\n\u001b[1;32m    277\u001b[0m         \u001b[0;32mreturn\u001b[0m \u001b[0mwrapper\u001b[0m  \u001b[0;31m# type: ignore\u001b[0m\u001b[0;34m\u001b[0m\u001b[0;34m\u001b[0m\u001b[0m\n",
            "\u001b[0;32m/usr/local/lib/python3.11/dist-packages/anthropic/resources/messages/messages.py\u001b[0m in \u001b[0;36mcreate\u001b[0;34m(self, max_tokens, messages, model, metadata, stop_sequences, stream, system, temperature, tool_choice, tools, top_k, top_p, extra_headers, extra_query, extra_body, timeout)\u001b[0m\n\u001b[1;32m    902\u001b[0m             )\n\u001b[1;32m    903\u001b[0m \u001b[0;34m\u001b[0m\u001b[0m\n\u001b[0;32m--> 904\u001b[0;31m         return self._post(\n\u001b[0m\u001b[1;32m    905\u001b[0m             \u001b[0;34m\"/v1/messages\"\u001b[0m\u001b[0;34m,\u001b[0m\u001b[0;34m\u001b[0m\u001b[0;34m\u001b[0m\u001b[0m\n\u001b[1;32m    906\u001b[0m             body=maybe_transform(\n",
            "\u001b[0;32m/usr/local/lib/python3.11/dist-packages/anthropic/_base_client.py\u001b[0m in \u001b[0;36mpost\u001b[0;34m(self, path, cast_to, body, options, files, stream, stream_cls)\u001b[0m\n\u001b[1;32m   1280\u001b[0m             \u001b[0mmethod\u001b[0m\u001b[0;34m=\u001b[0m\u001b[0;34m\"post\"\u001b[0m\u001b[0;34m,\u001b[0m \u001b[0murl\u001b[0m\u001b[0;34m=\u001b[0m\u001b[0mpath\u001b[0m\u001b[0;34m,\u001b[0m \u001b[0mjson_data\u001b[0m\u001b[0;34m=\u001b[0m\u001b[0mbody\u001b[0m\u001b[0;34m,\u001b[0m \u001b[0mfiles\u001b[0m\u001b[0;34m=\u001b[0m\u001b[0mto_httpx_files\u001b[0m\u001b[0;34m(\u001b[0m\u001b[0mfiles\u001b[0m\u001b[0;34m)\u001b[0m\u001b[0;34m,\u001b[0m \u001b[0;34m**\u001b[0m\u001b[0moptions\u001b[0m\u001b[0;34m\u001b[0m\u001b[0;34m\u001b[0m\u001b[0m\n\u001b[1;32m   1281\u001b[0m         )\n\u001b[0;32m-> 1282\u001b[0;31m         \u001b[0;32mreturn\u001b[0m \u001b[0mcast\u001b[0m\u001b[0;34m(\u001b[0m\u001b[0mResponseT\u001b[0m\u001b[0;34m,\u001b[0m \u001b[0mself\u001b[0m\u001b[0;34m.\u001b[0m\u001b[0mrequest\u001b[0m\u001b[0;34m(\u001b[0m\u001b[0mcast_to\u001b[0m\u001b[0;34m,\u001b[0m \u001b[0mopts\u001b[0m\u001b[0;34m,\u001b[0m \u001b[0mstream\u001b[0m\u001b[0;34m=\u001b[0m\u001b[0mstream\u001b[0m\u001b[0;34m,\u001b[0m \u001b[0mstream_cls\u001b[0m\u001b[0;34m=\u001b[0m\u001b[0mstream_cls\u001b[0m\u001b[0;34m)\u001b[0m\u001b[0;34m)\u001b[0m\u001b[0;34m\u001b[0m\u001b[0;34m\u001b[0m\u001b[0m\n\u001b[0m\u001b[1;32m   1283\u001b[0m \u001b[0;34m\u001b[0m\u001b[0m\n\u001b[1;32m   1284\u001b[0m     def patch(\n",
            "\u001b[0;32m/usr/local/lib/python3.11/dist-packages/anthropic/_base_client.py\u001b[0m in \u001b[0;36mrequest\u001b[0;34m(self, cast_to, options, remaining_retries, stream, stream_cls)\u001b[0m\n\u001b[1;32m    957\u001b[0m             \u001b[0mretries_taken\u001b[0m \u001b[0;34m=\u001b[0m \u001b[0;36m0\u001b[0m\u001b[0;34m\u001b[0m\u001b[0;34m\u001b[0m\u001b[0m\n\u001b[1;32m    958\u001b[0m \u001b[0;34m\u001b[0m\u001b[0m\n\u001b[0;32m--> 959\u001b[0;31m         return self._request(\n\u001b[0m\u001b[1;32m    960\u001b[0m             \u001b[0mcast_to\u001b[0m\u001b[0;34m=\u001b[0m\u001b[0mcast_to\u001b[0m\u001b[0;34m,\u001b[0m\u001b[0;34m\u001b[0m\u001b[0;34m\u001b[0m\u001b[0m\n\u001b[1;32m    961\u001b[0m             \u001b[0moptions\u001b[0m\u001b[0;34m=\u001b[0m\u001b[0moptions\u001b[0m\u001b[0;34m,\u001b[0m\u001b[0;34m\u001b[0m\u001b[0;34m\u001b[0m\u001b[0m\n",
            "\u001b[0;32m/usr/local/lib/python3.11/dist-packages/anthropic/_base_client.py\u001b[0m in \u001b[0;36m_request\u001b[0;34m(self, cast_to, options, retries_taken, stream, stream_cls)\u001b[0m\n\u001b[1;32m   1046\u001b[0m             \u001b[0;32mif\u001b[0m \u001b[0mremaining_retries\u001b[0m \u001b[0;34m>\u001b[0m \u001b[0;36m0\u001b[0m \u001b[0;32mand\u001b[0m \u001b[0mself\u001b[0m\u001b[0;34m.\u001b[0m\u001b[0m_should_retry\u001b[0m\u001b[0;34m(\u001b[0m\u001b[0merr\u001b[0m\u001b[0;34m.\u001b[0m\u001b[0mresponse\u001b[0m\u001b[0;34m)\u001b[0m\u001b[0;34m:\u001b[0m\u001b[0;34m\u001b[0m\u001b[0;34m\u001b[0m\u001b[0m\n\u001b[1;32m   1047\u001b[0m                 \u001b[0merr\u001b[0m\u001b[0;34m.\u001b[0m\u001b[0mresponse\u001b[0m\u001b[0;34m.\u001b[0m\u001b[0mclose\u001b[0m\u001b[0;34m(\u001b[0m\u001b[0;34m)\u001b[0m\u001b[0;34m\u001b[0m\u001b[0;34m\u001b[0m\u001b[0m\n\u001b[0;32m-> 1048\u001b[0;31m                 return self._retry_request(\n\u001b[0m\u001b[1;32m   1049\u001b[0m                     \u001b[0minput_options\u001b[0m\u001b[0;34m,\u001b[0m\u001b[0;34m\u001b[0m\u001b[0;34m\u001b[0m\u001b[0m\n\u001b[1;32m   1050\u001b[0m                     \u001b[0mcast_to\u001b[0m\u001b[0;34m,\u001b[0m\u001b[0;34m\u001b[0m\u001b[0;34m\u001b[0m\u001b[0m\n",
            "\u001b[0;32m/usr/local/lib/python3.11/dist-packages/anthropic/_base_client.py\u001b[0m in \u001b[0;36m_retry_request\u001b[0;34m(self, options, cast_to, retries_taken, response_headers, stream, stream_cls)\u001b[0m\n\u001b[1;32m   1095\u001b[0m         \u001b[0mtime\u001b[0m\u001b[0;34m.\u001b[0m\u001b[0msleep\u001b[0m\u001b[0;34m(\u001b[0m\u001b[0mtimeout\u001b[0m\u001b[0;34m)\u001b[0m\u001b[0;34m\u001b[0m\u001b[0;34m\u001b[0m\u001b[0m\n\u001b[1;32m   1096\u001b[0m \u001b[0;34m\u001b[0m\u001b[0m\n\u001b[0;32m-> 1097\u001b[0;31m         return self._request(\n\u001b[0m\u001b[1;32m   1098\u001b[0m             \u001b[0moptions\u001b[0m\u001b[0;34m=\u001b[0m\u001b[0moptions\u001b[0m\u001b[0;34m,\u001b[0m\u001b[0;34m\u001b[0m\u001b[0;34m\u001b[0m\u001b[0m\n\u001b[1;32m   1099\u001b[0m             \u001b[0mcast_to\u001b[0m\u001b[0;34m=\u001b[0m\u001b[0mcast_to\u001b[0m\u001b[0;34m,\u001b[0m\u001b[0;34m\u001b[0m\u001b[0;34m\u001b[0m\u001b[0m\n",
            "\u001b[0;32m/usr/local/lib/python3.11/dist-packages/anthropic/_base_client.py\u001b[0m in \u001b[0;36m_request\u001b[0;34m(self, cast_to, options, retries_taken, stream, stream_cls)\u001b[0m\n\u001b[1;32m   1046\u001b[0m             \u001b[0;32mif\u001b[0m \u001b[0mremaining_retries\u001b[0m \u001b[0;34m>\u001b[0m \u001b[0;36m0\u001b[0m \u001b[0;32mand\u001b[0m \u001b[0mself\u001b[0m\u001b[0;34m.\u001b[0m\u001b[0m_should_retry\u001b[0m\u001b[0;34m(\u001b[0m\u001b[0merr\u001b[0m\u001b[0;34m.\u001b[0m\u001b[0mresponse\u001b[0m\u001b[0;34m)\u001b[0m\u001b[0;34m:\u001b[0m\u001b[0;34m\u001b[0m\u001b[0;34m\u001b[0m\u001b[0m\n\u001b[1;32m   1047\u001b[0m                 \u001b[0merr\u001b[0m\u001b[0;34m.\u001b[0m\u001b[0mresponse\u001b[0m\u001b[0;34m.\u001b[0m\u001b[0mclose\u001b[0m\u001b[0;34m(\u001b[0m\u001b[0;34m)\u001b[0m\u001b[0;34m\u001b[0m\u001b[0;34m\u001b[0m\u001b[0m\n\u001b[0;32m-> 1048\u001b[0;31m                 return self._retry_request(\n\u001b[0m\u001b[1;32m   1049\u001b[0m                     \u001b[0minput_options\u001b[0m\u001b[0;34m,\u001b[0m\u001b[0;34m\u001b[0m\u001b[0;34m\u001b[0m\u001b[0m\n\u001b[1;32m   1050\u001b[0m                     \u001b[0mcast_to\u001b[0m\u001b[0;34m,\u001b[0m\u001b[0;34m\u001b[0m\u001b[0;34m\u001b[0m\u001b[0m\n",
            "\u001b[0;32m/usr/local/lib/python3.11/dist-packages/anthropic/_base_client.py\u001b[0m in \u001b[0;36m_retry_request\u001b[0;34m(self, options, cast_to, retries_taken, response_headers, stream, stream_cls)\u001b[0m\n\u001b[1;32m   1095\u001b[0m         \u001b[0mtime\u001b[0m\u001b[0;34m.\u001b[0m\u001b[0msleep\u001b[0m\u001b[0;34m(\u001b[0m\u001b[0mtimeout\u001b[0m\u001b[0;34m)\u001b[0m\u001b[0;34m\u001b[0m\u001b[0;34m\u001b[0m\u001b[0m\n\u001b[1;32m   1096\u001b[0m \u001b[0;34m\u001b[0m\u001b[0m\n\u001b[0;32m-> 1097\u001b[0;31m         return self._request(\n\u001b[0m\u001b[1;32m   1098\u001b[0m             \u001b[0moptions\u001b[0m\u001b[0;34m=\u001b[0m\u001b[0moptions\u001b[0m\u001b[0;34m,\u001b[0m\u001b[0;34m\u001b[0m\u001b[0;34m\u001b[0m\u001b[0m\n\u001b[1;32m   1099\u001b[0m             \u001b[0mcast_to\u001b[0m\u001b[0;34m=\u001b[0m\u001b[0mcast_to\u001b[0m\u001b[0;34m,\u001b[0m\u001b[0;34m\u001b[0m\u001b[0;34m\u001b[0m\u001b[0m\n",
            "\u001b[0;32m/usr/local/lib/python3.11/dist-packages/anthropic/_base_client.py\u001b[0m in \u001b[0;36m_request\u001b[0;34m(self, cast_to, options, retries_taken, stream, stream_cls)\u001b[0m\n\u001b[1;32m   1061\u001b[0m \u001b[0;34m\u001b[0m\u001b[0m\n\u001b[1;32m   1062\u001b[0m             \u001b[0mlog\u001b[0m\u001b[0;34m.\u001b[0m\u001b[0mdebug\u001b[0m\u001b[0;34m(\u001b[0m\u001b[0;34m\"Re-raising status error\"\u001b[0m\u001b[0;34m)\u001b[0m\u001b[0;34m\u001b[0m\u001b[0;34m\u001b[0m\u001b[0m\n\u001b[0;32m-> 1063\u001b[0;31m             \u001b[0;32mraise\u001b[0m \u001b[0mself\u001b[0m\u001b[0;34m.\u001b[0m\u001b[0m_make_status_error_from_response\u001b[0m\u001b[0;34m(\u001b[0m\u001b[0merr\u001b[0m\u001b[0;34m.\u001b[0m\u001b[0mresponse\u001b[0m\u001b[0;34m)\u001b[0m \u001b[0;32mfrom\u001b[0m \u001b[0;32mNone\u001b[0m\u001b[0;34m\u001b[0m\u001b[0;34m\u001b[0m\u001b[0m\n\u001b[0m\u001b[1;32m   1064\u001b[0m \u001b[0;34m\u001b[0m\u001b[0m\n\u001b[1;32m   1065\u001b[0m         return self._process_response(\n",
            "\u001b[0;31mInternalServerError\u001b[0m: Error code: 529 - {'type': 'error', 'error': {'type': 'overloaded_error', 'message': 'Overloaded'}}"
          ]
        }
      ]
    },
    {
      "cell_type": "code",
      "source": [],
      "metadata": {
        "id": "UpkZoWx89Var"
      },
      "execution_count": null,
      "outputs": []
    }
  ]
}