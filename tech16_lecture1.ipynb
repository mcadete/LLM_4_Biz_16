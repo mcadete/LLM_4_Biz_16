{
  "nbformat": 4,
  "nbformat_minor": 0,
  "metadata": {
    "colab": {
      "provenance": [],
      "authorship_tag": "ABX9TyMDjhbEWIEk2lnYkdZ4as/U",
      "include_colab_link": true
    },
    "kernelspec": {
      "name": "python3",
      "display_name": "Python 3"
    },
    "language_info": {
      "name": "python"
    }
  },
  "cells": [
    {
      "cell_type": "markdown",
      "metadata": {
        "id": "view-in-github",
        "colab_type": "text"
      },
      "source": [
        "<a href=\"https://colab.research.google.com/github/mcadete/LLM_4_Biz_16/blob/main/tech16_lecture1.ipynb\" target=\"_parent\"><img src=\"https://colab.research.google.com/assets/colab-badge.svg\" alt=\"Open In Colab\"/></a>"
      ]
    },
    {
      "cell_type": "code",
      "execution_count": 2,
      "metadata": {
        "id": "wDLq_RUjhNnV"
      },
      "outputs": [],
      "source": [
        "from openai import OpenAI\n",
        "from google.colab import userdata"
      ]
    },
    {
      "cell_type": "code",
      "source": [
        "open_ai_key = userdata.get('open_ai_key')\n"
      ],
      "metadata": {
        "id": "Kn3il6xBiVJf"
      },
      "execution_count": 3,
      "outputs": []
    },
    {
      "cell_type": "code",
      "source": [
        "client = OpenAI(api_key=open_ai_key)"
      ],
      "metadata": {
        "id": "0mD7-yXPiic2"
      },
      "execution_count": 4,
      "outputs": []
    },
    {
      "cell_type": "code",
      "source": [
        "response = client.chat.completions.create(\n",
        "    model=\"gpt-3.5-turbo\",\n",
        "    messages=[\n",
        "        {\"role\":\"system\", \"content\": \"You are an AI that takes instructions from a human and produces a concise answer\"},\n",
        "       # {\"role\":\"user\", \"content\": \"Compose a short rap about students studying large language models in Stanford on a Wed night\"}\n",
        "        {\"role\":\"user\", \"content\": \"tell me about visiting London\"}\n",
        "    ]\n",
        ")\n",
        "# the API has no memory, unlike the chat interface. we need to tell it its history. we need to build that all ourselves. there are frameworks and methodologies we will use to work with the API."
      ],
      "metadata": {
        "id": "j5cJKAcBi3F9"
      },
      "execution_count": 11,
      "outputs": []
    },
    {
      "cell_type": "code",
      "source": [
        "print(response.choices[0].message.content)"
      ],
      "metadata": {
        "colab": {
          "base_uri": "https://localhost:8080/"
        },
        "id": "tVEXUzEzjalG",
        "outputId": "cca1f08b-25eb-4e88-fee7-604d1fa92929"
      },
      "execution_count": 12,
      "outputs": [
        {
          "output_type": "stream",
          "name": "stdout",
          "text": [
            "Visiting London offers a mix of history, culture, and modern attractions. You can explore iconic landmarks such as Big Ben, Buckingham Palace, and the Tower of London. Enjoy world-class museums like the British Museum and the Tate Modern, or take a stroll in one of the city's many beautiful parks. Indulge in diverse cuisines, shop in famous areas like Oxford Street, and experience the vibrant theater scene in the West End. Don't forget to ride the iconic red double-decker buses and the London Eye for stunning views of the city.\n"
          ]
        }
      ]
    },
    {
      "cell_type": "code",
      "source": [
        "def call_openai_model(prompt: str, model: str = \"gpt-3.5-turbo\") -> str:\n",
        "\n",
        "  try:\n",
        "    response = client.chat.completions.create(\n",
        "        model = model,\n",
        "        messages=[\n",
        "            {\"role\":\"system\", \"content\": \"You are an AI that takes instructions from a human and produces a concise answer\"},\n",
        "            {\"role\":\"user\",\"content\": prompt}\n",
        "        ]\n",
        "    )\n",
        "    return response.choices[0].message.content\n",
        "  except Exception as e:\n",
        "    print(e)\n",
        "    return f\"Error: {e}\""
      ],
      "metadata": {
        "id": "pIP3O8SCj72u"
      },
      "execution_count": 15,
      "outputs": []
    },
    {
      "cell_type": "code",
      "source": [
        "call_openai_model(\"tell me about visiting London\")"
      ],
      "metadata": {
        "colab": {
          "base_uri": "https://localhost:8080/",
          "height": 70
        },
        "id": "Q_qj7NFnpAW8",
        "outputId": "81c3075c-3a74-47e8-c674-de9fb1b02746"
      },
      "execution_count": 16,
      "outputs": [
        {
          "output_type": "execute_result",
          "data": {
            "text/plain": [
              "\"Visiting London offers a mix of history, culture, and modern attractions. Some must-see landmarks include the Tower of London, Buckingham Palace, Big Ben, and the British Museum. Don't miss exploring the vibrant neighborhoods like Camden, Notting Hill, and Shoreditch. Enjoy the city's diverse culinary scene, from traditional pubs to Michelin-starred restaurants. And make sure to experience the iconic red double-decker buses and black cabs while navigating the city.\""
            ],
            "application/vnd.google.colaboratory.intrinsic+json": {
              "type": "string"
            }
          },
          "metadata": {},
          "execution_count": 16
        }
      ]
    },
    {
      "cell_type": "code",
      "source": [],
      "metadata": {
        "id": "1tXqdq6spiav"
      },
      "execution_count": null,
      "outputs": []
    }
  ]
}