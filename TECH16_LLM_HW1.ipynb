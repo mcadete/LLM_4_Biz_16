{
  "nbformat": 4,
  "nbformat_minor": 0,
  "metadata": {
    "colab": {
      "provenance": [],
      "mount_file_id": "1Pa2RwJRzIOgOTrk45vH6iTCj1SdVapYR",
      "authorship_tag": "ABX9TyPumhIieuB849AqJhwEh+m9",
      "include_colab_link": true
    },
    "kernelspec": {
      "name": "python3",
      "display_name": "Python 3"
    },
    "language_info": {
      "name": "python"
    }
  },
  "cells": [
    {
      "cell_type": "markdown",
      "metadata": {
        "id": "view-in-github",
        "colab_type": "text"
      },
      "source": [
        "<a href=\"https://colab.research.google.com/github/mcadete/LLM_4_Biz_16/blob/main/TECH16_LLM_HW1.ipynb\" target=\"_parent\"><img src=\"https://colab.research.google.com/assets/colab-badge.svg\" alt=\"Open In Colab\"/></a>"
      ]
    },
    {
      "cell_type": "code",
      "execution_count": 1,
      "metadata": {
        "colab": {
          "base_uri": "https://localhost:8080/"
        },
        "id": "tN1bl0YmtASM",
        "outputId": "b41360d9-612f-4cb5-919e-e865bec642cf"
      },
      "outputs": [
        {
          "output_type": "stream",
          "name": "stdout",
          "text": [
            "Requirement already satisfied: openai in /usr/local/lib/python3.11/dist-packages (1.59.9)\n",
            "Requirement already satisfied: anyio<5,>=3.5.0 in /usr/local/lib/python3.11/dist-packages (from openai) (3.7.1)\n",
            "Requirement already satisfied: distro<2,>=1.7.0 in /usr/local/lib/python3.11/dist-packages (from openai) (1.9.0)\n",
            "Requirement already satisfied: httpx<1,>=0.23.0 in /usr/local/lib/python3.11/dist-packages (from openai) (0.28.1)\n",
            "Requirement already satisfied: jiter<1,>=0.4.0 in /usr/local/lib/python3.11/dist-packages (from openai) (0.8.2)\n",
            "Requirement already satisfied: pydantic<3,>=1.9.0 in /usr/local/lib/python3.11/dist-packages (from openai) (2.10.6)\n",
            "Requirement already satisfied: sniffio in /usr/local/lib/python3.11/dist-packages (from openai) (1.3.1)\n",
            "Requirement already satisfied: tqdm>4 in /usr/local/lib/python3.11/dist-packages (from openai) (4.67.1)\n",
            "Requirement already satisfied: typing-extensions<5,>=4.11 in /usr/local/lib/python3.11/dist-packages (from openai) (4.12.2)\n",
            "Requirement already satisfied: idna>=2.8 in /usr/local/lib/python3.11/dist-packages (from anyio<5,>=3.5.0->openai) (3.10)\n",
            "Requirement already satisfied: certifi in /usr/local/lib/python3.11/dist-packages (from httpx<1,>=0.23.0->openai) (2024.12.14)\n",
            "Requirement already satisfied: httpcore==1.* in /usr/local/lib/python3.11/dist-packages (from httpx<1,>=0.23.0->openai) (1.0.7)\n",
            "Requirement already satisfied: h11<0.15,>=0.13 in /usr/local/lib/python3.11/dist-packages (from httpcore==1.*->httpx<1,>=0.23.0->openai) (0.14.0)\n",
            "Requirement already satisfied: annotated-types>=0.6.0 in /usr/local/lib/python3.11/dist-packages (from pydantic<3,>=1.9.0->openai) (0.7.0)\n",
            "Requirement already satisfied: pydantic-core==2.27.2 in /usr/local/lib/python3.11/dist-packages (from pydantic<3,>=1.9.0->openai) (2.27.2)\n"
          ]
        }
      ],
      "source": [
        "!pip install openai"
      ]
    },
    {
      "cell_type": "code",
      "source": [
        "from openai import OpenAI\n",
        "from google.colab import userdata"
      ],
      "metadata": {
        "id": "8kgFtiaItF9q"
      },
      "execution_count": 2,
      "outputs": []
    },
    {
      "cell_type": "code",
      "source": [
        "open_ai_key = userdata.get('open_ai_key')\n",
        "client = OpenAI(api_key=open_ai_key)"
      ],
      "metadata": {
        "id": "H5dwLbKKtPT8"
      },
      "execution_count": 4,
      "outputs": []
    },
    {
      "cell_type": "markdown",
      "source": [
        "Function to call the openai API passing in a prompt as a string with the option of passing in a different model (defaults to use gpt 3.5 turbo)"
      ],
      "metadata": {
        "id": "2G7aWyggBrPy"
      }
    },
    {
      "cell_type": "code",
      "source": [
        "def call_openai_model(prompt: str, model: str = \"gpt-3.5-turbo\") -> str:\n",
        "\n",
        "    try:\n",
        "      response = client.chat.completions.create(\n",
        "          model = model,\n",
        "          messages=[\n",
        "              {\"role\": \"system\", \"content\": \"You are a helpful assistant.\"},\n",
        "              {\"role\": \"user\", \"content\": prompt}\n",
        "          ]\n",
        "      )\n",
        "      return response.choices[0].message.content\n",
        "    except Exception as e:\n",
        "      print(e)\n",
        "      return f\"Error: {e}\""
      ],
      "metadata": {
        "id": "IWQDOdQrtWoT"
      },
      "execution_count": 5,
      "outputs": []
    },
    {
      "cell_type": "code",
      "source": [
        "call_openai_model(\"Tell me about the best things about visiting London\")"
      ],
      "metadata": {
        "colab": {
          "base_uri": "https://localhost:8080/",
          "height": 191
        },
        "id": "vSTIeZibuoi7",
        "outputId": "4e5582a4-a0a1-4c9c-d99b-c257c55bfd6a"
      },
      "execution_count": 6,
      "outputs": [
        {
          "output_type": "execute_result",
          "data": {
            "text/plain": [
              "\"Visiting London offers a wide range of exciting experiences and attractions. Here are some of the best things about visiting London:\\n\\n1. Rich history and culture: London is a city with a deep and fascinating history, from its iconic landmarks like the Tower of London and Buckingham Palace to its world-class museums and art galleries such as the British Museum and Tate Modern.\\n\\n2. Diverse culinary scene: London is a melting pot of cultures, offering a diverse range of cuisines from around the world. You can find everything from traditional British dishes to exotic street food markets.\\n\\n3. Beautiful parks and gardens: London is home to many beautiful parks and gardens, such as Hyde Park, Regent's Park, and Kew Gardens, providing peaceful spots to relax and enjoy nature in the heart of the city.\\n\\n4. Vibrant nightlife: London has a vibrant nightlife scene with a wide range of bars, clubs, and music venues to suit every taste. Whether you're looking for a quiet pub or a lively nightclub, London has something for everyone.\\n\\n5. Shopping and entertainment: London is a shopping paradise, with everything from high-end designer boutiques in Mayfair to quirky vintage stores in Shoreditch. Additionally, the city offers a variety of entertainment options, including West End shows, concerts, and events.\\n\\n6. Iconic landmarks: London is home to some of the world's most famous landmarks, such as the London Eye, Big Ben, Tower Bridge, and the Shard, providing countless photo opportunities and memorable experiences.\\n\\nOverall, visiting London offers a unique and unforgettable experience, combining history, culture, entertainment, and culinary delights in one vibrant and dynamic city.\""
            ],
            "application/vnd.google.colaboratory.intrinsic+json": {
              "type": "string"
            }
          },
          "metadata": {},
          "execution_count": 6
        }
      ]
    },
    {
      "cell_type": "code",
      "source": [
        "def read_document(file_path: str) -> str:\n",
        "    with open(file_path, 'r') as file:\n",
        "        return file.read()"
      ],
      "metadata": {
        "id": "v8FOHACauvj8"
      },
      "execution_count": 8,
      "outputs": []
    },
    {
      "cell_type": "markdown",
      "source": [
        "Function to call the openai API passing in two files as strings for comparison. Provided a parameter to pass in a model, defaults to gpt 3.5 turbo."
      ],
      "metadata": {
        "id": "9Cl7EVaAB81g"
      }
    },
    {
      "cell_type": "code",
      "source": [
        "def compare_documents(file1: str, file2: str, model: str = \"gpt-3.5-turbo\") -> str:\n",
        "\n",
        "    prompt = f\"\"\"\n",
        "    I have two documents. Identify and summarize the key differences between them.\n",
        "    Document 1: {file1[:4000]}\n",
        "    Document 2: {file2[:4000]}\n",
        "    Provide a structured summary of the important differences.\n",
        "    Format the resulting summarization as markdown so that it's easily readable in a google colab notebook cell.\n",
        "    \"\"\"\n",
        "\n",
        "    return call_openai_model(prompt, model)\n",
        "\n",
        ""
      ],
      "metadata": {
        "id": "-r_jRbUS39mN"
      },
      "execution_count": 20,
      "outputs": []
    },
    {
      "cell_type": "code",
      "source": [
        "luca_trade = read_document(\"Luca_Lakers.txt\")\n",
        "AD_trade = read_document(\"AD_Mavs.txt\")"
      ],
      "metadata": {
        "id": "U0x8XD9p5cwV"
      },
      "execution_count": 21,
      "outputs": []
    },
    {
      "cell_type": "code",
      "source": [
        "compare_documents(luca_trade, AD_trade)"
      ],
      "metadata": {
        "colab": {
          "base_uri": "https://localhost:8080/",
          "height": 191
        },
        "id": "EDrfvtn-8hNZ",
        "outputId": "4443e815-1556-4b2d-c869-e1db74b4452e"
      },
      "execution_count": 22,
      "outputs": [
        {
          "output_type": "execute_result",
          "data": {
            "text/plain": [
              "\"```markdown\\nKey Differences Between Document 1 and Document 2:\\n\\n1. **Players Involved**:\\n    - Document 1 focuses on the potential trade of Luka Dončić to the Los Angeles Lakers.\\n    - Document 2 discusses the possibility of Anthony Davis being traded to the Dallas Mavericks.\\n\\n2. **Pros and Cons Analysis**:\\n    - Document 1 emphasizes the pros and cons of acquiring Luka Dončić, highlighting his offensive prowess, potential as a successor to LeBron, playmaking abilities, marketability, and offensive efficiency.\\n    - Document 2 assesses the pros and cons of adding Anthony Davis to the Dallas Mavericks, emphasizing his defensive impact, championship experience, offensive versatility, fit with Luka Dončić, and attraction for future free agents.\\n\\n3. **Areas of Concern**:\\n    - Document 1 addresses issues such as the trade cost, defensive concerns regarding Dončić, fit with LeBron and Davis, salary cap implications, and the pressure that comes with playing in Los Angeles.\\n    - Document 2 raises concerns about injury risks associated with Davis, trade cost implications, potential chemistry issues with Dončić, salary cap constraints, and the long-term commitment risk.\\n\\n4. **Focus of Analysis**:\\n    - Document 1 primarily evaluates how acquiring Luka Dončić would impact the Lakers' championship aspirations, franchise longevity, playing style adjustments, financial flexibility, and overall team dynamics.\\n    - Document 2 assesses the impact of adding Anthony Davis on the Mavericks' defensive capabilities, star power, championship aspirations, offensive balance, and potential long-term implications for the team's competitiveness.\\n\\nOverall, the two documents provide contrasting perspectives on potential blockbuster trades involving star players and highlight the unique considerations and implications associated with each scenario.\\n```  \""
            ],
            "application/vnd.google.colaboratory.intrinsic+json": {
              "type": "string"
            }
          },
          "metadata": {},
          "execution_count": 22
        }
      ]
    },
    {
      "cell_type": "code",
      "source": [],
      "metadata": {
        "id": "5KiGxvRB8i9H"
      },
      "execution_count": null,
      "outputs": []
    },
    {
      "cell_type": "markdown",
      "source": [],
      "metadata": {
        "id": "62WJLlmGBpWo"
      }
    }
  ]
}