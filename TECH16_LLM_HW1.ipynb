{
  "nbformat": 4,
  "nbformat_minor": 0,
  "metadata": {
    "colab": {
      "provenance": [],
      "mount_file_id": "1Pa2RwJRzIOgOTrk45vH6iTCj1SdVapYR",
      "authorship_tag": "ABX9TyNMPrbbiQCEWqExSt/1I1Vv",
      "include_colab_link": true
    },
    "kernelspec": {
      "name": "python3",
      "display_name": "Python 3"
    },
    "language_info": {
      "name": "python"
    }
  },
  "cells": [
    {
      "cell_type": "markdown",
      "metadata": {
        "id": "view-in-github",
        "colab_type": "text"
      },
      "source": [
        "<a href=\"https://colab.research.google.com/github/mcadete/LLM_4_Biz_16/blob/main/TECH16_LLM_HW1.ipynb\" target=\"_parent\"><img src=\"https://colab.research.google.com/assets/colab-badge.svg\" alt=\"Open In Colab\"/></a>"
      ]
    },
    {
      "cell_type": "markdown",
      "source": [
        "Homework Week1: Submit a colab notebook with a summarization of some text of your choice.\n",
        "\n",
        "Extra credit: Have the model compare two documents for important differences when summarizing"
      ],
      "metadata": {
        "id": "ED95XkthCky2"
      }
    },
    {
      "cell_type": "code",
      "execution_count": null,
      "metadata": {
        "id": "tN1bl0YmtASM"
      },
      "outputs": [],
      "source": [
        "#!pip install openai"
      ]
    },
    {
      "cell_type": "code",
      "source": [
        "from openai import OpenAI\n",
        "from google.colab import userdata"
      ],
      "metadata": {
        "id": "8kgFtiaItF9q"
      },
      "execution_count": 23,
      "outputs": []
    },
    {
      "cell_type": "code",
      "source": [
        "open_ai_key = userdata.get('open_ai_key')\n",
        "client = OpenAI(api_key=open_ai_key)"
      ],
      "metadata": {
        "id": "H5dwLbKKtPT8"
      },
      "execution_count": 24,
      "outputs": []
    },
    {
      "cell_type": "markdown",
      "source": [
        "Function to call the openai API passing in a prompt as a string with the option of passing in a different model (defaults to use gpt 3.5 turbo)"
      ],
      "metadata": {
        "id": "2G7aWyggBrPy"
      }
    },
    {
      "cell_type": "code",
      "source": [
        "def call_openai_model(prompt: str, model: str = \"gpt-3.5-turbo\") -> str:\n",
        "\n",
        "    try:\n",
        "      response = client.chat.completions.create(\n",
        "          model = model,\n",
        "          messages=[\n",
        "              {\"role\": \"system\", \"content\": \"You are a helpful assistant.\"},\n",
        "              {\"role\": \"user\", \"content\": prompt}\n",
        "          ]\n",
        "      )\n",
        "      return response.choices[0].message.content\n",
        "    except Exception as e:\n",
        "      print(e)\n",
        "      return f\"Error: {e}\""
      ],
      "metadata": {
        "id": "IWQDOdQrtWoT"
      },
      "execution_count": 25,
      "outputs": []
    },
    {
      "cell_type": "code",
      "source": [
        "call_openai_model(\"Tell me about the best things about visiting London\")"
      ],
      "metadata": {
        "colab": {
          "base_uri": "https://localhost:8080/",
          "height": 191
        },
        "id": "vSTIeZibuoi7",
        "outputId": "751b8d68-8001-4101-cd00-e849a67a7d35"
      },
      "execution_count": 26,
      "outputs": [
        {
          "output_type": "execute_result",
          "data": {
            "text/plain": [
              "\"Visiting London is a fantastic experience with countless things to see and do. Some of the best things about visiting London include:\\n\\n1. Rich History: London is steeped in history with iconic landmarks such as the Tower of London, Buckingham Palace, and Westminster Abbey.\\n\\n2. World-Class Museums: London is home to some of the best museums in the world, including the British Museum, the Natural History Museum, and the Tate Modern.\\n\\n3. Diverse Culture: London is a melting pot of different cultures, offering a vibrant mix of cuisines, music, and art from around the world.\\n\\n4. Beautiful Parks: London is known for its beautiful parks and green spaces, such as Hyde Park, Regent's Park, and Kensington Gardens, providing a peaceful escape from the hustle and bustle of the city.\\n\\n5. Theatres and Entertainment: London's West End is famous for its world-class theatre productions, musicals, and performances, making it a must-visit destination for theatre lovers.\\n\\n6. Shopping: From high-end designer stores in Knightsbridge to quirky boutiques in Shoreditch, London offers a diverse shopping experience for every taste and budget.\\n\\n7. River Thames: The River Thames runs through the heart of the city, offering picturesque views, boat cruises, and riverside dining options.\\n\\n8. Iconic Landmarks: London is home to iconic landmarks such as the London Eye, Tower Bridge, and St. Paul's Cathedral, offering endless photo opportunities.\\n\\n9. Vibrant Nightlife: London has a thriving nightlife scene with a wide range of bars, pubs, clubs, and music venues to suit all tastes, ensuring a fun night out for visitors.\\n\\n10. Friendly Locals: Londoners are known for their friendliness and welcoming attitude towards visitors, making it a great place to explore and make new friends.\""
            ],
            "application/vnd.google.colaboratory.intrinsic+json": {
              "type": "string"
            }
          },
          "metadata": {},
          "execution_count": 26
        }
      ]
    },
    {
      "cell_type": "code",
      "source": [
        "def read_document(file_path: str) -> str:\n",
        "    with open(file_path, 'r') as file:\n",
        "        return file.read()"
      ],
      "metadata": {
        "id": "v8FOHACauvj8"
      },
      "execution_count": 27,
      "outputs": []
    },
    {
      "cell_type": "markdown",
      "source": [
        "Function to call the openai API passing in two files as strings for comparison. Provided a parameter to pass in a model, defaults to gpt 3.5 turbo."
      ],
      "metadata": {
        "id": "9Cl7EVaAB81g"
      }
    },
    {
      "cell_type": "code",
      "source": [
        "def compare_documents(file1: str, file2: str, model: str = \"gpt-3.5-turbo\") -> str:\n",
        "\n",
        "    prompt = f\"\"\"\n",
        "    I have two documents. Identify and summarize the key differences between them.\n",
        "    Document 1: {file1[:4000]}\n",
        "    Document 2: {file2[:4000]}\n",
        "    Provide a structured summary of the important differences.\n",
        "    Format the resulting summarization as markdown so that it's easily readable in a google colab notebook cell.\n",
        "    \"\"\"\n",
        "\n",
        "    return call_openai_model(prompt, model)\n",
        "\n",
        ""
      ],
      "metadata": {
        "id": "-r_jRbUS39mN"
      },
      "execution_count": 28,
      "outputs": []
    },
    {
      "cell_type": "markdown",
      "source": [
        "Both documents were uploaded to Google Colab"
      ],
      "metadata": {
        "id": "ovpO-gQYCVN5"
      }
    },
    {
      "cell_type": "code",
      "source": [
        "luca_trade = read_document(\"Luca_Lakers.txt\")\n",
        "AD_trade = read_document(\"AD_Mavs.txt\")"
      ],
      "metadata": {
        "id": "U0x8XD9p5cwV"
      },
      "execution_count": 29,
      "outputs": []
    },
    {
      "cell_type": "code",
      "source": [
        "compare_documents(luca_trade, AD_trade)"
      ],
      "metadata": {
        "colab": {
          "base_uri": "https://localhost:8080/",
          "height": 191
        },
        "id": "EDrfvtn-8hNZ",
        "outputId": "bc663f7b-6810-4bc9-9cd1-b84524a74853"
      },
      "execution_count": 30,
      "outputs": [
        {
          "output_type": "execute_result",
          "data": {
            "text/plain": [
              "\"```markdown\\n### Key Differences Between Document 1 and Document 2:\\n\\n1. **Subject of Analysis:**\\n   - **Document 1 (Lakers):** Focuses on the pros and cons of a potential trade involving acquiring Luka Dončić by the Los Angeles Lakers.\\n   - **Document 2 (Mavericks):** Analyzes the pros and cons of a hypothetical trade scenario where the Dallas Mavericks acquire Anthony Davis.\\n\\n2. **Player Traits and Skills:**\\n   - **Document 1 (Lakers):** Emphasizes Luka Dončić's scoring, playmaking, and rebounding abilities as key assets for the Lakers.\\n   - **Document 2 (Mavericks):** Highlights Anthony Davis's defensive prowess, offensive versatility, and championship experience as valuable additions for the Mavericks.\\n\\n3. **Team Relevance:**\\n   - **Document 1 (Lakers):** Discusses how Luka Dončić could fit into the Lakers' roster dynamics and future plans, especially as a successor to LeBron James.\\n   - **Document 2 (Mavericks):** Examines the impact Anthony Davis could have on the Mavericks' defensive presence, offensive options, and team culture alongside Luka Dončić.\\n\\n4. **Challenges and Risks:**\\n   - **Document 1 (Lakers):** Outlines concerns about the trade cost, defensive adjustments, fit with existing star players, salary cap implications, and the pressure of playing in Los Angeles associated with acquiring Luka Dončić.\\n   - **Document 2 (Mavericks):** Raises issues related to Anthony Davis's injury history, potential trade costs, compatibility with Luka Dončić, salary cap limitations, and the long-term commitment risks of bringing in a high-profile player like Davis.\\n\\n5. **Conclusion and Decision-making:**\\n   - **Document 1 (Lakers):** Advocates for a judicious evaluation of whether trading for Luka Dončić would align with the Lakers' championship aspirations and long-term roster construction plans.\\n   - **Document 2 (Mavericks):** Encourages a thoughtful consideration of the trade-offs between acquiring Anthony Davis for immediate success versus managing the risks and uncertainties associated with such a move for the Dallas Mavericks.\\n```\\n\""
            ],
            "application/vnd.google.colaboratory.intrinsic+json": {
              "type": "string"
            }
          },
          "metadata": {},
          "execution_count": 30
        }
      ]
    },
    {
      "cell_type": "code",
      "source": [
        "def get_text_from_url(url: str) -> str:\n",
        "\n",
        "    try:\n",
        "      response = requests.get(url)\n",
        "      soup = BeautifulSoup(response.text, 'html.parser')\n",
        "      paragraphs = soup.find_all('p')\n",
        "      text = '\\n'.join([p.get_text() for p in paragraphs])\n",
        "      text = soup.get_text()\n",
        "      return text[:4000]\n",
        "    except Exception as e:\n",
        "      print(e)\n",
        "      return f\"error getting text from url: {url}: {e}\"\n"
      ],
      "metadata": {
        "id": "vKoqWRDQE4-R"
      },
      "execution_count": null,
      "outputs": []
    }
  ]
}